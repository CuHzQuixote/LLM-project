# 1-preprocessing.ipynb
# --- Install and Import Dependencies ---
!pip install numpy==1.26.4 --quiet
!pip install -q --upgrade transformers datasets accelerate evaluate rouge_score

import os
import torch
import numpy as np
import pandas as pd
import json
from datasets import load_dataset
from torch.utils.data import DataLoader
from transformers import AutoTokenizer, AutoModelForSeq2SeqLM
from torch.optim import AdamW
from accelerate import Accelerator

# --- Load and Limit Dataset ---
with open("train.src.cleaned", "r") as f:
    docs = [line.strip() for _, line in zip(range(500), f)]
with open("train.tgt", "r") as f:
    summaries = [line.strip() for _, line in zip(range(500), f)]

min_len = min(len(docs), len(summaries))
docs = docs[:min_len]
summaries = summaries[:min_len]

df = pd.DataFrame({
    "document": [doc.strip() for doc in docs],
    "summary": [summary.strip() for summary in summaries]
})

# Display few records
df.head()
