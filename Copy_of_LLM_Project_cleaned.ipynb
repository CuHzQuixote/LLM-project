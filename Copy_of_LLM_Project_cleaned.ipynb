{
  "cells": [
    {
      "cell_type": "code",
      "execution_count": null,
      "metadata": {
        "id": "IFfbTojL_UOr"
      },
      "outputs": [],
      "source": [
        "# Fix numpy + transformers crash in Colab (after runtime reset)\n",
        "# 🛠 Downgrade NumPy to avoid 2.0 issues\n",
        "!pip install numpy==1.26.4 --quiet\n",
        "!pip install -q --upgrade transformers datasets accelerate evaluate rouge_score\n",
        "\n",
        "# Restart runtime automatically to apply numpy fix\n",
        "import os\n",
        "os.kill(os.getpid(), 9)"
      ]
    },
    {
      "cell_type": "code",
      "execution_count": null,
      "metadata": {
        "colab": {
          "base_uri": "https://localhost:8080/"
        },
        "id": "0eOwxLtadosU",
        "outputId": "ae6dcf9f-83a0-4dab-dbe4-b7bd4008dccf"
      },
      "outputs": [
        {
          "name": "stdout",
          "output_type": "stream",
          "text": [
            "Requirement already satisfied: transformers in /usr/local/lib/python3.11/dist-packages (4.52.3)\n",
            "Requirement already satisfied: datasets in /usr/local/lib/python3.11/dist-packages (3.6.0)\n",
            "Requirement already satisfied: accelerate in /usr/local/lib/python3.11/dist-packages (1.7.0)\n",
            "Requirement already satisfied: filelock in /usr/local/lib/python3.11/dist-packages (from transformers) (3.18.0)\n",
            "Requirement already satisfied: huggingface-hub<1.0,>=0.30.0 in /usr/local/lib/python3.11/dist-packages (from transformers) (0.31.4)\n",
            "Requirement already satisfied: numpy>=1.17 in /usr/local/lib/python3.11/dist-packages (from transformers) (1.26.4)\n",
            "Requirement already satisfied: packaging>=20.0 in /usr/local/lib/python3.11/dist-packages (from transformers) (24.2)\n",
            "Requirement already satisfied: pyyaml>=5.1 in /usr/local/lib/python3.11/dist-packages (from transformers) (6.0.2)\n",
            "Requirement already satisfied: regex!=2019.12.17 in /usr/local/lib/python3.11/dist-packages (from transformers) (2024.11.6)\n",
            "Requirement already satisfied: requests in /usr/local/lib/python3.11/dist-packages (from transformers) (2.32.3)\n",
            "Requirement already satisfied: tokenizers<0.22,>=0.21 in /usr/local/lib/python3.11/dist-packages (from transformers) (0.21.1)\n",
            "Requirement already satisfied: safetensors>=0.4.3 in /usr/local/lib/python3.11/dist-packages (from transformers) (0.5.3)\n",
            "Requirement already satisfied: tqdm>=4.27 in /usr/local/lib/python3.11/dist-packages (from transformers) (4.67.1)\n",
            "Requirement already satisfied: pyarrow>=15.0.0 in /usr/local/lib/python3.11/dist-packages (from datasets) (18.1.0)\n",
            "Requirement already satisfied: dill<0.3.9,>=0.3.0 in /usr/local/lib/python3.11/dist-packages (from datasets) (0.3.7)\n",
            "Requirement already satisfied: pandas in /usr/local/lib/python3.11/dist-packages (from datasets) (2.2.2)\n",
            "Requirement already satisfied: xxhash in /usr/local/lib/python3.11/dist-packages (from datasets) (3.5.0)\n",
            "Requirement already satisfied: multiprocess<0.70.17 in /usr/local/lib/python3.11/dist-packages (from datasets) (0.70.15)\n",
            "Requirement already satisfied: fsspec<=2025.3.0,>=2023.1.0 in /usr/local/lib/python3.11/dist-packages (from fsspec[http]<=2025.3.0,>=2023.1.0->datasets) (2025.3.0)\n",
            "Requirement already satisfied: psutil in /usr/local/lib/python3.11/dist-packages (from accelerate) (5.9.5)\n",
            "Requirement already satisfied: torch>=2.0.0 in /usr/local/lib/python3.11/dist-packages (from accelerate) (2.6.0+cu124)\n",
            "Requirement already satisfied: aiohttp!=4.0.0a0,!=4.0.0a1 in /usr/local/lib/python3.11/dist-packages (from fsspec[http]<=2025.3.0,>=2023.1.0->datasets) (3.11.15)\n",
            "Requirement already satisfied: typing-extensions>=3.7.4.3 in /usr/local/lib/python3.11/dist-packages (from huggingface-hub<1.0,>=0.30.0->transformers) (4.13.2)\n",
            "Requirement already satisfied: charset-normalizer<4,>=2 in /usr/local/lib/python3.11/dist-packages (from requests->transformers) (3.4.2)\n",
            "Requirement already satisfied: idna<4,>=2.5 in /usr/local/lib/python3.11/dist-packages (from requests->transformers) (3.10)\n",
            "Requirement already satisfied: urllib3<3,>=1.21.1 in /usr/local/lib/python3.11/dist-packages (from requests->transformers) (2.4.0)\n",
            "Requirement already satisfied: certifi>=2017.4.17 in /usr/local/lib/python3.11/dist-packages (from requests->transformers) (2025.4.26)\n",
            "Requirement already satisfied: networkx in /usr/local/lib/python3.11/dist-packages (from torch>=2.0.0->accelerate) (3.4.2)\n",
            "Requirement already satisfied: jinja2 in /usr/local/lib/python3.11/dist-packages (from torch>=2.0.0->accelerate) (3.1.6)\n",
            "Requirement already satisfied: nvidia-cuda-nvrtc-cu12==12.4.127 in /usr/local/lib/python3.11/dist-packages (from torch>=2.0.0->accelerate) (12.4.127)\n",
            "Requirement already satisfied: nvidia-cuda-runtime-cu12==12.4.127 in /usr/local/lib/python3.11/dist-packages (from torch>=2.0.0->accelerate) (12.4.127)\n",
            "Requirement already satisfied: nvidia-cuda-cupti-cu12==12.4.127 in /usr/local/lib/python3.11/dist-packages (from torch>=2.0.0->accelerate) (12.4.127)\n",
            "Requirement already satisfied: nvidia-cudnn-cu12==9.1.0.70 in /usr/local/lib/python3.11/dist-packages (from torch>=2.0.0->accelerate) (9.1.0.70)\n",
            "Requirement already satisfied: nvidia-cublas-cu12==12.4.5.8 in /usr/local/lib/python3.11/dist-packages (from torch>=2.0.0->accelerate) (12.4.5.8)\n",
            "Requirement already satisfied: nvidia-cufft-cu12==11.2.1.3 in /usr/local/lib/python3.11/dist-packages (from torch>=2.0.0->accelerate) (11.2.1.3)\n",
            "Requirement already satisfied: nvidia-curand-cu12==10.3.5.147 in /usr/local/lib/python3.11/dist-packages (from torch>=2.0.0->accelerate) (10.3.5.147)\n",
            "Requirement already satisfied: nvidia-cusolver-cu12==11.6.1.9 in /usr/local/lib/python3.11/dist-packages (from torch>=2.0.0->accelerate) (11.6.1.9)\n",
            "Requirement already satisfied: nvidia-cusparse-cu12==12.3.1.170 in /usr/local/lib/python3.11/dist-packages (from torch>=2.0.0->accelerate) (12.3.1.170)\n",
            "Requirement already satisfied: nvidia-cusparselt-cu12==0.6.2 in /usr/local/lib/python3.11/dist-packages (from torch>=2.0.0->accelerate) (0.6.2)\n",
            "Requirement already satisfied: nvidia-nccl-cu12==2.21.5 in /usr/local/lib/python3.11/dist-packages (from torch>=2.0.0->accelerate) (2.21.5)\n",
            "Requirement already satisfied: nvidia-nvtx-cu12==12.4.127 in /usr/local/lib/python3.11/dist-packages (from torch>=2.0.0->accelerate) (12.4.127)\n",
            "Requirement already satisfied: nvidia-nvjitlink-cu12==12.4.127 in /usr/local/lib/python3.11/dist-packages (from torch>=2.0.0->accelerate) (12.4.127)\n",
            "Requirement already satisfied: triton==3.2.0 in /usr/local/lib/python3.11/dist-packages (from torch>=2.0.0->accelerate) (3.2.0)\n",
            "Requirement already satisfied: sympy==1.13.1 in /usr/local/lib/python3.11/dist-packages (from torch>=2.0.0->accelerate) (1.13.1)\n",
            "Requirement already satisfied: mpmath<1.4,>=1.1.0 in /usr/local/lib/python3.11/dist-packages (from sympy==1.13.1->torch>=2.0.0->accelerate) (1.3.0)\n",
            "Requirement already satisfied: python-dateutil>=2.8.2 in /usr/local/lib/python3.11/dist-packages (from pandas->datasets) (2.9.0.post0)\n",
            "Requirement already satisfied: pytz>=2020.1 in /usr/local/lib/python3.11/dist-packages (from pandas->datasets) (2025.2)\n",
            "Requirement already satisfied: tzdata>=2022.7 in /usr/local/lib/python3.11/dist-packages (from pandas->datasets) (2025.2)\n",
            "Requirement already satisfied: aiohappyeyeballs>=2.3.0 in /usr/local/lib/python3.11/dist-packages (from aiohttp!=4.0.0a0,!=4.0.0a1->fsspec[http]<=2025.3.0,>=2023.1.0->datasets) (2.6.1)\n",
            "Requirement already satisfied: aiosignal>=1.1.2 in /usr/local/lib/python3.11/dist-packages (from aiohttp!=4.0.0a0,!=4.0.0a1->fsspec[http]<=2025.3.0,>=2023.1.0->datasets) (1.3.2)\n",
            "Requirement already satisfied: attrs>=17.3.0 in /usr/local/lib/python3.11/dist-packages (from aiohttp!=4.0.0a0,!=4.0.0a1->fsspec[http]<=2025.3.0,>=2023.1.0->datasets) (25.3.0)\n",
            "Requirement already satisfied: frozenlist>=1.1.1 in /usr/local/lib/python3.11/dist-packages (from aiohttp!=4.0.0a0,!=4.0.0a1->fsspec[http]<=2025.3.0,>=2023.1.0->datasets) (1.6.0)\n",
            "Requirement already satisfied: multidict<7.0,>=4.5 in /usr/local/lib/python3.11/dist-packages (from aiohttp!=4.0.0a0,!=4.0.0a1->fsspec[http]<=2025.3.0,>=2023.1.0->datasets) (6.4.4)\n",
            "Requirement already satisfied: propcache>=0.2.0 in /usr/local/lib/python3.11/dist-packages (from aiohttp!=4.0.0a0,!=4.0.0a1->fsspec[http]<=2025.3.0,>=2023.1.0->datasets) (0.3.1)\n",
            "Requirement already satisfied: yarl<2.0,>=1.17.0 in /usr/local/lib/python3.11/dist-packages (from aiohttp!=4.0.0a0,!=4.0.0a1->fsspec[http]<=2025.3.0,>=2023.1.0->datasets) (1.20.0)\n",
            "Requirement already satisfied: six>=1.5 in /usr/local/lib/python3.11/dist-packages (from python-dateutil>=2.8.2->pandas->datasets) (1.17.0)\n",
            "Requirement already satisfied: MarkupSafe>=2.0 in /usr/local/lib/python3.11/dist-packages (from jinja2->torch>=2.0.0->accelerate) (3.0.2)\n"
          ]
        }
      ],
      "source": [
        "# Install libraries (only run once)\n",
        "!pip install --no-cache-dir transformers datasets accelerate"
      ]
    },
    {
      "cell_type": "code",
      "execution_count": null,
      "metadata": {
        "id": "AFXIYcuGa2JP"
      },
      "outputs": [],
      "source": [
        "# --- Imports ---\n",
        "import torch\n",
        "from torch.utils.data import DataLoader\n",
        "from datasets import load_dataset\n",
        "from transformers import AutoTokenizer, AutoModelForSeq2SeqLM\n",
        "from torch.optim import AdamW\n",
        "import pandas as pd\n",
        "import json\n",
        "from torch.utils.data import DataLoader\n",
        "from accelerate import Accelerator\n",
        "import numpy as np"
      ]
    },
    {
      "cell_type": "code",
      "execution_count": null,
      "metadata": {
        "id": "ty3DncW9vhpy"
      },
      "outputs": [],
      "source": [
        "with open(\"train.src.cleaned\", \"r\") as f:\n",
        "    docs = [line.strip() for _, line in zip(range(500), f)]\n",
        "\n",
        "with open(\"train.tgt\", \"r\") as f:\n",
        "    summaries = [line.strip() for _, line in zip(range(500), f)]"
      ]
    },
    {
      "cell_type": "code",
      "execution_count": null,
      "metadata": {
        "colab": {
          "base_uri": "https://localhost:8080/"
        },
        "id": "-C1ucZm9dyef",
        "outputId": "3eae446f-ba26-4b3e-8248-df1591892348"
      },
      "outputs": [
        {
          "name": "stdout",
          "output_type": "stream",
          "text": [
            "Docs: 500\n",
            "Summaries: 500\n"
          ]
        }
      ],
      "source": [
        "print(\"Docs:\", len(docs))\n",
        "print(\"Summaries:\", len(summaries))"
      ]
    },
    {
      "cell_type": "code",
      "execution_count": null,
      "metadata": {
        "id": "Ck2l_OwrVqxY"
      },
      "outputs": [],
      "source": [
        "min_len = min(len(docs), len(summaries))\n",
        "\n",
        "df = pd.DataFrame({\n",
        "    \"document\": [doc.strip() for doc in docs[:min_len]],\n",
        "    \"summary\": [summary.strip() for summary in summaries[:min_len]]\n",
        "})"
      ]
    },
    {
      "cell_type": "code",
      "execution_count": null,
      "metadata": {
        "colab": {
          "base_uri": "https://localhost:8080/",
          "height": 206
        },
        "id": "E4SoiPbrveZj",
        "outputId": "c016dda2-d912-4d15-cb33-e9d83a6dd1e0"
      },
      "outputs": [
        {
          "data": {
            "application/vnd.google.colaboratory.intrinsic+json": {
              "summary": "{\n  \"name\": \"df\",\n  \"rows\": 500,\n  \"fields\": [\n    {\n      \"column\": \"document\",\n      \"properties\": {\n        \"dtype\": \"string\",\n        \"num_unique_values\": 500,\n        \"samples\": [\n          \"Donald Trump on Thursday repeated a claim that he's seen a video showing a plane delivering $400 million in cash from the United States to Iran, even after his own campaign acknowledged such an assertion is incorrect. NEWLINE_CHAR NEWLINE_CHAR \\\"A tape was made, you saw that? With the airplane coming in \\u2026 and the money coming off, I guess,\\u201d he said while addressing supporters in Portland, Maine. NEWLINE_CHAR NEWLINE_CHAR At a campaign rally in Florida a day earlier, Trump for the first time said he had seen a video shot by Iran, \\u201ctaking that money off that airplane.\\u201d NEWLINE_CHAR NEWLINE_CHAR But campaign officials later told CBS News that the video in question was actually footage of the released American hostages landing at Geneva, which had been aired on Fox News. NEWLINE_CHAR NEWLINE_CHAR Even so, Trump repeated the claim in Maine, insisting that the video was made public by the Iranians to embarrass the United States. NEWLINE_CHAR NEWLINE_CHAR \\\"They want to embarrass our country. And they want to embarrass our president,\\\" he said. NEWLINE_CHAR NEWLINE_CHAR Trump's campaign in recent days has been fueling allegations that the Obama administration paid $400 million in cash ransom to win the release of four Americans as part of the agreement implemented in January to restrict Iran's efforts to develop a nuclear weapon. NEWLINE_CHAR NEWLINE_CHAR The administration has denied any ransom was paid, noting that it publicly disclosed the $400-million payment in January and that it was widely reported at the time. NEWLINE_CHAR NEWLINE_CHAR The administration says the money was being returned to Iran after being frozen following the 1979 Iranian revolution. The payment was to partly settle Iran's legal claims arising from a weapons purchase from the U.S. that never took place. NEWLINE_CHAR NEWLINE_CHAR Republicans and the Trump campaign have said the timing of the payment and use of cash give the appearance that the U.S. was paying ransom. NEWLINE_CHAR NEWLINE_CHAR At his rally on Thursday, Trump speculated that the money would be used by Iran to fund terrorism. NEWLINE_CHAR NEWLINE_CHAR \\\"I wonder where that money really goes, by the way.... Well, it went either in their pockets, which I actually think more so, or toward terrorism -- probably a combination of both,\\u201d he said. ||||| Washington (CNN) Donald Trump backed off a false claim Friday morning, admitting he had not seen a video of a $400 million payment being unloaded from a US plane in Iran. NEWLINE_CHAR NEWLINE_CHAR The Republican nominee had claimed at rallies twice this week that such a video existed, saying in Maine on Thursday that it was provided by Iranians \\\"to embarrass our president because we have a president who's incompetent.\\\" NEWLINE_CHAR NEWLINE_CHAR What Trump had actually seen in news reports was video of three American prisoners who Iran had released arriving in Geneva, Switzerland. NEWLINE_CHAR NEWLINE_CHAR Trump admitted his error in an early-morning tweet Friday, without actually saying he was wrong. NEWLINE_CHAR NEWLINE_CHAR \\\"The plane I saw on television was the hostage plane in Geneva, Switzerland, not the plane carrying $400 million in cash going to Iran!\\\" he tweeted. NEWLINE_CHAR NEWLINE_CHAR The plane I saw on television was the hostage plane in Geneva, Switzerland, not the plane carrying $400 million in cash going to Iran! NEWLINE_CHAR NEWLINE_CHAR It was a rare reversal for Trump, who has stood by inaccurate or unproven claims previously -- insisting he'd seen videos of Muslim Americans in New Jersey cheering the September 11, 2001, attacks. His political rise began during the 2012 campaign, when he insisted that Obama release his birth certificate, questioning the President's American citizenship. NEWLINE_CHAR NEWLINE_CHAR Democratic vice presidential nominee Tim Kaine hit Trump on Friday for the video claim, saying he seems \\\"confused\\\" on CBS' \\\"This Morning,\\\" in an interview taped before Trump backtracked. NEWLINE_CHAR NEWLINE_CHAR \\\"I have no idea what he's talking about. It (the video) doesn't exist. He might be thinking about Iran Contra from like 35 years ago or something like this,\\\" Kaine said. NEWLINE_CHAR NEWLINE_CHAR He pointed to Trump's recent criticism of Kaine, who Trump said in a late-July news conference \\\"did a terrible job in New Jersey\\\" -- despite Kaine being a governor and senator from Virginia, not New Jersey. Kaine said Trump must have confused him with Tom Kean, who was New Jersey's governor until 1990. NEWLINE_CHAR NEWLINE_CHAR \\\"He was confusing it with a situation from two or three decades ago. Maybe that's what he's doing with this bogus video claim,\\\" Kaine said. NEWLINE_CHAR NEWLINE_CHAR Asked if he thinks Trump is confused, Kaine said: \\\"I absolutely think he's confused.\\\" NEWLINE_CHAR NEWLINE_CHAR Paul Manafort, Trump's campaign chairman, responded to Kaine on Fox News Friday morning, saying he's \\\"not sure there was confusion\\\" on Trump's part. NEWLINE_CHAR NEWLINE_CHAR \\\"The point that he was making is the cash-transfer took place and it was taking place consistent with the transfer of hostages,\\\" Manafort said. NEWLINE_CHAR NEWLINE_CHAR \\\"Again, what the Obama administration wants to do is get off of the point. The point is, $400 million in cash that most likely ended up in terrorist camps used against the west was given in exchange for hostages and the President of the United States lied to the American people, that's the point.\\\" NEWLINE_CHAR NEWLINE_CHAR Trump has made criticism of the US delivery of $400 million in cash via a plane to Iran -- the first installment of $1.7 billion in payments related to a decades-old dispute over an unfulfilled us arms purchase before the Iranian revolution cut relations between the two countries and settled at the same time Iran released four American prisoners -- a staple this week on the campaign trail. NEWLINE_CHAR NEWLINE_CHAR But Wednesday in Florida and Thursday in Maine, he went a step further, claiming he'd seen video of the cash actually being delivered in Iran. NEWLINE_CHAR NEWLINE_CHAR \\\"It was interesting because a tape was made. Right? You saw that? With the airplane coming in -- nice plane -- and the airplane coming in, and the money coming off, I guess. Right? That was given to us, has to be, by the Iranians,\\\" Trump said in Portland, Maine. NEWLINE_CHAR NEWLINE_CHAR \\\"And you know why the tape was given to us? Because they want to embarrass our country. They want to embarrass our country. And they want to embarrass our president because we have a president who's incompetent. They want to embarrass our president,\\\" Trump said. \\\"I mean, who would ever think they would be taking all of this money off the plane and then providing us with a tape? It's only for one reason. And it's very, very sad.\\\" ||||| Starting in 1996, Alexa Internet has been donating their crawl data to the Internet Archive. Flowing in every day, these data are added to the Wayback Machine after an embargo period. ||||| WASHINGTON \\u2014 President Obama on Thursday flatly denied that a $400 million pallet of cash delivered to the Iranian government in January, on the same day that four American citizens who had been detained by Iran were released, was a ransom payment, calling the latest uproar over the landmark nuclear pact with Tehran \\u201cthe manufacturing of outrage.\\u201d NEWLINE_CHAR NEWLINE_CHAR Mr. Obama said the payment was part of a decades-old dispute with Iran that had been litigated before an international tribunal, adding that his administration publicly disclosed the agreement in January. NEWLINE_CHAR NEWLINE_CHAR \\u201cWe do not pay ransom for hostages,\\u201d Mr. Obama said during a news conference at the Pentagon. In a forceful rebuttal to accusations from critics who said that the payment could put more Americans in danger of being held, he called \\u201cthe notion that we would start now, in this high profile way,\\u201d one that \\u201cdefies logic.\\u201d NEWLINE_CHAR NEWLINE_CHAR On Jan. 17, the United States and European nations lifted oil and financial sanctions on Iran and released roughly $100 billion of its assets as part of the terms of the nuclear accord reached between Iran and six world powers. ||||| Republican presidential nominee Donald Trump told supporters at an August 3 rally in Daytona Beach, Fla., that he had watched a video of Iranian officials unloading cash from an airplane. (Reuters) NEWLINE_CHAR NEWLINE_CHAR As Fox News reported on the controversial transfer of $400 million in cash to Iran in January, it repeatedly played dark, grainy footage of shadowy figures walking off a small private plane with bags in hand. The video is often labeled as being from Jan. 17 in Geneva where three Americans first landed after being released from prison in Tehran. NEWLINE_CHAR NEWLINE_CHAR Republican nominee Donald Trump watched this sort of footage, according to his spokeswoman, and concluded that it showed the controversial money transfer that was described in detail for the first time this week by the Wall Street Journal. At a rally in Daytona Beach, Fla., on Wednesday afternoon, Trump announced that the months-old video had been recorded by the Iranian government and released to embarrass the United States. NEWLINE_CHAR NEWLINE_CHAR \\\"Remember this: Iran \\u2014 I don't think you heard this anywhere but here \\u2014 Iran provided all of that footage, the tape of taking that money off the airplane,\\\" Trump said at the rally. \\\"Right?\\\" NEWLINE_CHAR NEWLINE_CHAR Trump provided no source for this exclusive information but described in detail what he saw in the video. NEWLINE_CHAR NEWLINE_CHAR \\\"Now, here's the amazing thing: Over there, where that plane landed, top secret, you don't have a lot of paparazzi. You know, the paparazzi doesn't do so well over there, right?\\\" Trump said, seeming to refer to Iran and not Switzerland, where the footage was recorded. \\\"And they have a perfect tape, done by obviously a government camera, and the tape is of the people taking the money off the plane. Right? That means that in order to embarrass us further, Iran sent us the tapes. Right? It's a military tape; it's a tape that was a perfect angle, nice and steady, nobody getting nervous because they're gonna be shot because they're shooting a picture of money pouring off a plane.\\\" NEWLINE_CHAR NEWLINE_CHAR Twitter quickly filled with confusion and this central question: What is Trump talking about? NEWLINE_CHAR NEWLINE_CHAR Several senior U.S. officials involved in the Iran negotiations told the Associated Press on Wednesday they weren't aware of any such footage. There was speculation that perhaps Trump saw the footage during one of the classified security briefings provided to presidential nominees, but Trump's campaign chairman Paul Manafort said in an interview on Fox News earlier in the day that those briefings have not yet begun. NEWLINE_CHAR NEWLINE_CHAR The Washington Post asked Trump's staff to explain what Trump was talking about and emailed a link to a Fox News clip that showed the January footage from Geneva, asking if that was the video the nominee saw. NEWLINE_CHAR NEWLINE_CHAR \\\"Yes,\\\" spokeswoman Hope Hicks responded in an email. \\\"Merely the b-roll footage included in every broadcast.\\\" NEWLINE_CHAR NEWLINE_CHAR Hicks has yet to respond to a follow-up email asking why Trump thought the footage showed a money transfer and not the widely watched prisoner swap, and why Trump said it was recorded by the Iranian government. NEWLINE_CHAR NEWLINE_CHAR (Note: This wasn't the only questionable thing Trump said about Iran on Wednesday. Post fact-checker Glenn Kessler dug into Trump's assertion that Hillary Clinton \\\"started talks to give 400 million dollars, in cash, to Iran,\\\" evaluating the untrue statement as worthy of four Pinocchios.) ||||| MYTH: \\u201cThe Administration Did Not Reveal This To The Public\\u201d NEWLINE_CHAR NEWLINE_CHAR MYTH: Clinton Improperly Dismissed The Report As \\u201cOld News\\u201d NEWLINE_CHAR NEWLINE_CHAR MYTH: Sending Cash To Iran Was Essentially \\u201cMoney Laundering\\u201d NEWLINE_CHAR NEWLINE_CHAR Resolution Of 35-Year-Old Dispute Coincided With Iran Nuclear Agreement And Prisoner Exchange NEWLINE_CHAR NEWLINE_CHAR Wash. Post: Nuclear Agreement Between U.S. And Iran \\u201cHelped Accelerate The Talks\\u201d About Freeing Prisoners. On January 16, after years of negotiations, the United States government secured the release of five Americans held prisoner in Iran, including Washington Post reporter Jason Rezaian, who had been held in captivity for nearly two years. Their release was secured on the same day that the two nations agreed to an historic nuclear nonproliferation agreement, which President Obama heralded as \\u201csmart, patient and disciplined\\u201d diplomacy. According to the Obama administration, the prisoner release was \\u201cnegotiated separately\\u201d from the nuclear accord \\u201cto ensure that the detainees were not used as leverage,\\u201d but the administration did concede that fruitful nuclear negotiations \\u201chelped accelerate the talks.\\u201d From a January 17 Washington Post article: NEWLINE_CHAR NEWLINE_CHAR The nuclear agreement and the release of the American prisoners were negotiated separately to ensure that the detainees were not used as leverage, U.S. officials said. But the completion of the nuclear deal last summer helped accelerate the talks about the prisoners, which loomed in the background of the negotiations. The Americans were freed in exchange for U.S. clemency in the cases of seven Iranians charged or imprisoned over sanctions violations, and the dismissal of outstanding charges against 14 Iranians outside the United States. At least five of the Iranians granted pardons or sentence commutations intend to stay in the United States, their attorneys said. [The Washington Post, 1/17/16] NEWLINE_CHAR NEWLINE_CHAR AFP: U.S. Agreed To Repay $400 Million Plus Interest To Iranian Government Over Disputed Arms Sale. On January 17, the United States government agreed to repay $400 million plus approximately $1.3 billion in accumulated interest to the Iranian government to resolve a disputed arms sale between the two nations that occurred \\u201cprior to the break in diplomatic ties\\u201d during the 1979 Iranian revolution. According to reporting from Agence France-Presse (AFP) and other news agencies, the payment resolved a deadlock at the Iran-U.S. Claims Tribunal that had stood since the tribunal\\u2019s inception in 1981, and represented \\u201ca broader clearing of the decks between the old foes\\u201d just one day after the signing of an historic nuclear agreement. AFP reported at the time that the Obama administration\\u2019s political opponents were already attempting to scandalize the arrangement: NEWLINE_CHAR NEWLINE_CHAR The repayment, which settles a suit brought under an international legal tribunal, is separate from the tens of billions of dollars in frozen foreign accounts that Iran can now access after the end of nuclear sanctions. But the timing of the announcement, one day after the implementation of the Iran nuclear accord, will be seen as pointing to a broader clearing of the decks between the old foes. US President Barack Obama defended the settlement in a televised statement from the White House, saying it was for \\\"much less than the amount Iran sought.\\\" [...] [Secretary of State John] Kerry described Sunday's payment of the 35-year-old trust as a \\\"fair settlement.\\\" But the debt deal immediately drew the ire of those in Washington who think the Obama administration had already made too many concessions to secure the nuclear deal. [Agence France-Press, 1/17/16] NEWLINE_CHAR NEWLINE_CHAR The Wall Street Journal Reports U.S. \\u201cSecretly Organized\\u201d Cash Transfer To Iran NEWLINE_CHAR NEWLINE_CHAR WSJ: U.S. \\u201cSecretly Organized An Airlift Of $400 Million Worth Of Cash To Iran.\\u201d On August 3, The Wall Street Journal reported that the United States \\u201csecretly organized an airlift of $400 million worth of cash to Iran that coincided with the January release of four Americans detained in Tehran.\\u201d The Journal noted that \\u201c[t]he money represented the first installment of a $1.7 billion settlement the Obama administration reached with Iran to resolve a decades-old dispute over a failed arms deal signed just before the 1979 fall of Iran\\u2019s last monarch,\\u201d adding that \\u201csenior U.S. officials denied any link between the payment\\u201d and a prisoner exchange that resulted in five Americans being freed. From the August 3 article: NEWLINE_CHAR NEWLINE_CHAR The Obama administration secretly organized an airlift of $400 million worth of cash to Iran that coincided with the January release of four Americans detained in Tehran, according to U.S. and European officials and congressional staff briefed on the operation afterward. Wooden pallets stacked with euros, Swiss francs and other currencies were flown into Iran on an unmarked cargo plane, according to these officials. The U.S. procured the money from the central banks of the Netherlands and Switzerland, they said. The money represented the first installment of a $1.7 billion settlement the Obama administration reached with Iran to resolve a decades-old dispute over a failed arms deal signed just before the 1979 fall of Iran\\u2019s last monarch, Shah Mohammad Reza Pahlavi. [...] Senior U.S. officials denied any link between the payment and the prisoner exchange. They say the way the various strands came together simultaneously was coincidental, not the result of any quid pro quo. [...] Meanwhile, U.S. officials have said they were certain Washington was going to lose the arbitration in The Hague, where Iran was seeking more than $10 billion, and described the settlement as a bargain for taxpayers. [...] The $400 million was paid in foreign currency because any transaction with Iran in U.S. dollars is illegal under U.S. law. Sanctions also complicate Tehran\\u2019s access to global banks. [...] The Iranians were demanding the return of $400 million the Shah\\u2019s regime deposited into a Pentagon trust fund in 1979 to purchase U.S. fighter jets, U.S. officials said. They also wanted billions of dollars as interest accrued since then. [The Wall Street Journal, 8/3/16] NEWLINE_CHAR NEWLINE_CHAR Right-Wing Media Distort WSJ Report To Renew Attacks On Iran Negotiations NEWLINE_CHAR NEWLINE_CHAR Fox\\u2019s John Bolton: \\u201cOf Course It\\u2019s Ransom. I Don\\u2019t Think There\\u2019s Any Way Of Getting Around It.\\u201d Reacting to the Journal article, Fox News contributor John Bolton said \\u201cof course\\u201d the payment to Iran was \\u201cransom,\\u201d adding, \\u201cI don\\u2019t think there\\u2019s any way of getting around it.\\u201d From the August 4 edition of Fox News\\u2019 America\\u2019s Newsroom: NEWLINE_CHAR NEWLINE_CHAR JOHN BOLTON: Well, of course, it's ransom. I don't think there's any way of getting around it. It's not a question what the administration says it is or what Iran says it is, it's the reality that the money paid was -- got -- helped get the hostages released as part of the overall nuclear deal. But I think there may have been other questions that [the] Justice [Department] was asking here, because the way this transaction was handled, without more information, it looks to me to be in serious jeopardy of violating the prohibitions on using dollars for transactions with Iran. I don't think it should make any difference whether some government agency converted U.S. dollars into Swiss francs or euros. You could give the Iranians $400 million worth of pizzas, it would be exactly the same thing. It would be a transmission of resources to them. So I think -- I encourage all those investigative reporters at The Washington Post and The New York Times to get the scoop on what else Justice said. And importantly, who overruled them. I don't think the State Department could overrule the Justice Department on its own. [Fox News, America's Newsroom, 8/4/16] NEWLINE_CHAR NEWLINE_CHAR Fox\\u2019s Ralph Peters: \\u201cThis Was Definitely A Ransom, Or A Bribe If You Prefer To Call It That.\\u201d Fox News strategic analyst Ralph Peters stated that the payment \\u201cwas definitely ransom\\u201d and that \\u201cthe rest of the world\\u201d would look at the arrangement and conclude \\u201cwe did pay ransom.\\u201d From the August 3 edition of Fox News\\u2019 America\\u2019s Newsroom: NEWLINE_CHAR NEWLINE_CHAR RALPH PETERS: This was definitely a ransom, or a bribe if you\\u2019d prefer to call it that. And I can even tell you how it happened. It's the same thing as when you walk into a car dealership and you haggle with the car dealer. And finally you think the salesman -- you've agreed on a price, and the salesman disappears into the back room, and you're excited about that car, and the contract comes out, and it's $800 higher than you agreed on. And he says, \\\"oh, that's a dealer prep charge.\\\" And, if you're a fool, as John Kerry was of the Iranians, you agree to the higher charge. It was clearly a sweetener to get the deal through and to get the Iranian-Americans released. And the problem is, Elizabeth, that we did pay ransom. That's how it looks to the rest of the world. [Fox News, America's Newsroom, 8/3/16] NEWLINE_CHAR NEWLINE_CHAR FACT: \\u201cNo Concrete Evidence\\u201d That Payment Was A Ransom NEWLINE_CHAR NEWLINE_CHAR AP: \\u201cThere Is No Concrete Evidence That The Cash Payment Was, In Fact, A Ransom.\\u201d According to an Associated Press (AP) fact-check of Republican presidential nominee Donald Trump\\u2019s reaction to the WSJ article, \\u201cThere is no concrete evidence that the cash payment was, in fact, a ransom.\\u201d The AP reported that \\u201cThe Obama administration has flatly denied it has ever paid ransoms, including in this case,\\u201d and \\u201cofficials acknowledge that progress in the nuclear negotiations contributed to progress on the settlement of the claim as well as progress in talks on the release of the Americans.\\u201d From the August 3 fact-check: NEWLINE_CHAR NEWLINE_CHAR THE FACTS: There is no concrete evidence that the cash payment was, in fact, a ransom. Critics of the Iran deal, including many senior Republican lawmakers, maintain that the $400 million settlement was a ransom for the release of four private American citizens jailed in Tehran and freed a day after the Iran deal was implemented. Some Iranian officials have suggested the same thing. The Obama administration has flatly denied it has ever paid ransoms, including in this case. The timing of the prisoner release and the arrival of the payment has given weight to GOP claims. U.S. officials acknowledge that progress in the nuclear negotiations contributed to progress on the settlement of the claim as well as progress in talks on the release of the Americans. [Associated Press, 8/3/16] NEWLINE_CHAR NEWLINE_CHAR Vox: $400 Million \\u201cWasn\\u2019t A Ransom Payment,\\u201d Trump Is Wrong To Characterize It That Way. An August 3 Vox post explaining the controversy over the payment stated \\u201cit wasn\\u2019t a ransom payment. It was a settlement.\\u201d The post further explained that Trump \\u201cis wrong\\u201d to go with the \\u201c\\u2018secret ransom payment\\u2019 line.\\u201d [Vox, 8/3/16] NEWLINE_CHAR NEWLINE_CHAR CNN: Prisoner Release Was Part Of A \\u201cSeparate [Negotiating] Session\\u201d That \\u201cOpened After The Iranian Nuclear Deal.\\u201d In January, CNN.com reported that the United States \\u201cinsisted there had to be a separate session between the U.S. and Iran\\u201d to discuss the \\u201cprisoner exchange.\\u201d According to CNN.com, \\u201cA senior administration official who briefed reporters said a \\u2018window\\u2019 opened after the Iranian nuclear deal \\u2018and we wanted to take advantage of that window.\\u2019\\u201d From the January 16 report: NEWLINE_CHAR NEWLINE_CHAR The prisoner exchange between the U.S. and Iran capped 14 months of secret diplomacy and talks between Washington and Tehran as the U.S. and world powers negotiated the pact to curb Iran's nuclear program, reflecting a thaw in relations between the sworn enemies. The negotiation over the prisoners began on the sideline of the nuclear talks, intensified after the deal was completed last April and heated up even further in recent months, senior administration officials told CNN. The secret talks were led by Brett McGurk, the U.S. special envoy tapped by President Barack Obama to coordinate the global fight against ISIS, the officials said [...] The Iranians told the U.S. during the talks they wanted a \\\"goodwill gesture\\\" and gave the U.S. a list of Iranians they wanted released. The U.S. officials excluded any names of anyone charged with terrorism or violence, insisting that they would only consider those who had been convicted of sanctions violations or violations of the trade embargo. After every meeting on the nuclear deal between world powers and Iran, the U.S. insisted there had to be a separate session between the U.S. and Iran on the American prisoners, the officials said. [CNN.com, 1/16/16] NEWLINE_CHAR NEWLINE_CHAR State Department: \\u201cAny Suggestion That It Had Anything To Do With Ransom Is Absolutely And Utterly False.\\u201d In an interview on Fox News, State Department spokesman John Kirby explained that the prisoner exchange was negotiated by \\u201ca completely separate team than was working in The Hague tribunal to negotiate this claim.\\u201d After co-host Bill Hemmer said the payment \\u201clooks like it\\u2019s ransom,\\u201d Kirby reiterated the U.S. government\\u2019s policy that \\u201cWe don't pay ransom. We just don't pay ransom. It is our policy. This was not ransom.\\u201d From the August 3 edition of Fox News\\u2019 America\\u2019s Newsroom: NEWLINE_CHAR NEWLINE_CHAR JOHN KIRBY: The teams that were negotiating the release of our Americans was a completely separate team than was working in The Hague tribunal to negotiate this claim. Completely separate processes, though simultaneously done. The timing is all coincidental. Again, we can -- BILL HEMMER (HOST): This is from The Wall Street Journal report, this is very important now, OK? Because, in its story today, it talks about Iranian press reports. And, straight out of Tehran, they've quoted senior Iranian defense officials saying, \\\"it was a ransom payment.\\\" Now, are they wrong? JOHN KIRBY: Yes, they are. They're absolutely wrong, Bill. Completely wrong. Look, you can believe us, who've talked about this on camera and on the record since January, or you can believe an unnamed, anonymous defense official from Iran. You choose who you are going to believe to be more credible. HEMMER: Well, 1.3 billion to go, correct?So, that means what, is that more pallets of euros headed for Tehran? [...] HEMMER: And, you know, the series [of] events last January, it looks like it's ransom. It looks like Tehran said, \\\"we'll go ahead and do this, but you have to give us the money, and you have to do it in cash.\\\" KIRBY: We don't pay ransom. We just don't pay ransom. It is our policy. This was not ransom. Any suggestion that it had anything to do with ransom is absolutely and utterly false. These were two separate processes run by two separate teams. Now, yes, they were done simultaneously, and so I understand the coincidental nature here of the timing. But, absolutely had nothing to do with ransom. We do not, and will not, pay ransom. [Fox News, America's Newsroom, 8/3/16] NEWLINE_CHAR NEWLINE_CHAR Fox\\u2019s Steve Doocy: \\u201cWe Didn\\u2019t Know About This.\\u201d Fox & Friends co-host Steve Doocy hyped The Wall Street Journal\\u2019 article, saying of the $400 million cash payment was \\u201cransom money\\u201d and that the American public \\u201cdidn\\u2019t know about this.\\u201d Co-host Anna Kooiman also cited Trump\\u2019s misleading tweet about the article, which blamed Hillary Clinton for the so-called \\u201cscandal.\\u201d From the August 3 edition of Fox News\\u2019 Fox & Friends: NEWLINE_CHAR NEWLINE_CHAR STEVE DOOCY (CO-HOST): All right, The Wall Street Journal had an exclusive report yesterday late in the day and now everybody's got it. The same day that four American hostages were released by the country of Iran, earlier that day, under the cover of darkness we believe, the United States sent an unmarked cargo jet. There you've got the hostages landing in Geneva. They've been loaded up in Tehran. Earlier, an unmarked white cargo plane with $400 million on wooden pallets in Swiss francs was delivered to the country of Iran, and right now, people are saying, \\u201cwait, that\\u2019s hostage money, right? That\\u2019s ransom money.\\u201d No, the administration says it's not. It might look like it, but indeed what that was was part of $1.7 billion we owed to the country of Iran after that 1979 arms deal and the fall of the Shah of Iran. ANNA KOOIMAN (CO-HOST): Yeah, they say that it's -- that the settlement actually is resolving a decades-old dispute. But others others are going, \\\"this looks a whole lot like ransom money.\\\" DOOCY: Do you think? KOOIMAN: And Donald Trump tweeted this earlier, and he has reason behind it. He says, \\u201cOur incompetent Secretary of State, Hillary Clinton, was the one who started talks to give 400 million dollars, in cash, to Iran. Scandal!\\u201d [...] DOOCY: So you\\u2019ve got four Americans released who had been held hostage, and then there's $400 million in that airplane. Remember the American sailors who were taken hostage and, of course, we were told that no money was paid regarding that. But we didn't know about this, what apparently was ransom money either. You got to wonder whether or not there was a secret deal regarding that, too. [Fox News, Fox & Friends, 8/3/16] NEWLINE_CHAR NEWLINE_CHAR Fox\\u2019s Tucker Carlson: \\u201cThe Truth Remains That The Administration Did Not Reveal This To The Public.\\u201d Fox host Tucker Carlson stated that the payment \\u201cwas ransom,\\u201d and that \\u201cthe administration did not reveal this to the public.\\u201d While Carlson insisted that \\u201cany reasonable person looking at this is going to reach that conclusion,\\u201d he admitted that the claim is \\u201c[h]ard to prove\\u201d and \\u201c[m]aybe it\\u2019ll never be proved.\\u201d From the August 3 edition of Fox News\\u2019 America\\u2019s Newsroom: NEWLINE_CHAR NEWLINE_CHAR BILL HEMMER (CO-HOST): What do you make now with the administration pushing back, suggesting that John Kerry made this public months ago? Yet there does not appear to be a record of Kerry talking about money. TUCKER CARLSON: No, there doesn't, and of course the administration has talked about this deal in some great detail a lot over the last several months, and never mentioned this. It was done secretly in an unmarked aircraft, as you know. Not in U.S. dollars, in euros and francs. Pallets of them. And it was done that way because it would have been illegal to conduct it in U.S. dollars, which tells you everything right there. If you and I did this in American currency, we'd be charged with a felony. And so, there is a secretive component to this. Why would the administration keep this from the American people? It seems to me that\\u2019s a pretty obvious question for Admiral Kirby. But it has an odor to it. [...] This component of the deal was known that Iran was expecting payment of frozen funds, et cetera, et cetera. But the truth remains that the administration did not reveal this to the public, and that American hostages were released at the same time, and it's impossible not to draw the conclusion that this was, at least in part, ransom money. And boy, that's of a piece, by the way. For all the talk about how we never pay for ransom for hostages, we don't negotiate, the truth is that news organizations and governments very often pay ransom and negotiate, and everyone in Washington, for example, knows that. And the lying and the sanctimony around this subject is hard to take once you know that. [Fox News, America\\u2019s Newsroom, 8/3/16] NEWLINE_CHAR NEWLINE_CHAR Rush Limbaugh: \\u201cObama Secretly Paid $400 Million To The Iranians For The Release Of Four American-Iranian Hostages.\\u201d Rush Limbaugh asserted that \\u201cBarack Hussein Obama secretly paid $400 million to the Iranians for the release of four Iranian American hostages.\\u201d From the August 3 edition of Premiere Radio Networks\\u2019 The Rush Limbaugh Show: NEWLINE_CHAR NEWLINE_CHAR RUSH LIMBAUGH (HOST): We were talking about Barack Hussein Obama\\u2019s excoriating Donald Trump for being \\u201cunfit\\u201d for office. For being unsuitable. Or maybe even being mentally unfit to hold the office of president of the United States. What have we learned since yesterday? We have learned that Barack Hussein Obama secretly paid $400 million to the Iranians for the release of four American-Iranian hostages. [Premiere Radio Networks, The Rush Limbaugh Show, 8/3/16] NEWLINE_CHAR NEWLINE_CHAR FACT: Most Details Of The WSJ Article Were Announced By The Obama Administration In January NEWLINE_CHAR NEWLINE_CHAR President Obama In January: \\u201cThe United States And Iran Are Now Settling A Longstanding Iranian Government Claim Against The United States Government.\\u201d In a January 17 statement on the implementation of the Iran nuclear deal, President Obama explained that \\u201cengaging directly with the Iranian government on a sustained basis \\u2026 has created a unique opportunity -- a window -- to try to resolve important issues.\\u201d Among those issues, Obama said, was the resolution of a \\u201cfinancial dispute that dated back more than three decades\\u201d: NEWLINE_CHAR NEWLINE_CHAR So, nuclear deal implemented. American families reunited. The third piece of this work that we got done this weekend involved the United States and Iran resolving a financial dispute that dated back more than three decades. Since 1981, after our nations severed diplomatic relations, we\\u2019ve worked through a international tribunal to resolve various claims between our countries. The United States and Iran are now settling a longstanding Iranian government claim against the United States government. Iran will be returned its own funds, including appropriate interest, but much less than the amount Iran sought. For the United States, this settlement could save us billions of dollars that could have been pursued by Iran. So there was no benefit to the United States in dragging this out. With the nuclear deal done, prisoners released, the time was right to resolve this dispute as well. [The Washington Post, 1/17/16] NEWLINE_CHAR NEWLINE_CHAR Secretary Of State John Kerry Issued Press Release Announcing Settlement Of Iranian Government\\u2019s Claims, Beginning With $400 Million Payment. On January 17, Secretary of State John Kerry issued a press release explaining that Iran will be paid $400 million, to be followed by $1.3 billion more to settle \\u201ca long outstanding claim at the Iran-U.S. Claims Tribunal in the Hague\\u201d: NEWLINE_CHAR NEWLINE_CHAR The United States and Iran today have settled a long outstanding claim at the Iran-U.S. Claims Tribunal in the Hague. This specific claim was in the amount of a $400 million Trust Fund used by Iran to purchase military equipment from the United States prior to the break in diplomatic ties. In 1981, with the reaching of the Algiers Accords and the creation of the Iran-U.S. Claims Tribunal, Iran filed a claim for these funds, tying them up in litigation at the Tribunal. This is the latest of a series of important settlements reached over the past 35 years at the Hague Tribunal. In constructive bilateral discussions, we arrived at a fair settlement to this claim, which due to litigation risk, remains in the best interests of the United States. Iran will receive the balance of $400 million in the Trust Fund, as well as a roughly $1.3 billion compromise on the interest. Iran\\u2019s recovery was fixed at a reasonable rate of interest and therefore Iran is unable to pursue a bigger Tribunal award against us, preventing U.S. taxpayers from being obligated to a larger amount of money. [U.S. Department of State, 1/17/16] NEWLINE_CHAR NEWLINE_CHAR NY Times: $400 Million Transfer Was \\u201cFor Military Equipment \\u2026 Sold To The Shah Of Iran And Never Delivered When He Was Overthrown.\\u201d The New York Times reported on January 17 that the president announced the return of \\u201cover $400 million in payments for military equipment that the United States sold to the shah of Iran and never delivered when he was overthrown\\u201d: NEWLINE_CHAR NEWLINE_CHAR Mr. Obama also announced the resolution of another argument between Tehran and Washington that dates to the Iranian revolution, this one over $400 million in payments for military equipment that the United States sold to the shah of Iran and never delivered when he was overthrown. The Iranians got their money back, with $1.3 billion in interest that had accumulated over 37 years. [The New York Times, 1/17/16] NEWLINE_CHAR NEWLINE_CHAR Hillary Clinton Responds To Questions About WSJ Article: \\u201cActually This Is Kind Of Old News. It Was First Reported About Seven Or Eight Months Ago, As I Recall.\\u201d In an interview with Denver-based NBC affiliate 9 News, Hillary Clinton was asked if she \\u201cknew\\u201d the payment to Iran \\u201cwas coming\\u201d and whether she \\u201capprove[d] of it,\\u201d to which Clinton responded by saying \\u201cI think actually this is kind of old news. It was first reported about seven or eight months ago, as I recall.\\u201d Clinton added that the payment \\u201chad nothing to do with any kind of hostage swap or any other tit for tat. It was something that was intended to, as I am told, pay back Iran for contracts that were canceled when the Shah fell.\\u201d [KUSA, 9News.com, 8/3/16] NEWLINE_CHAR NEWLINE_CHAR Fox & Friends Hosts Object To Clinton\\u2019s Response To WSJ Report. Fox & Friends co-host Anna Kooiman took issue with Democratic presidential nominee Hillary Clinton\\u2019s reaction to the Journal\\u2019s report. From the August 4 edition of Fox News\\u2019 Fox & Friends: NEWLINE_CHAR NEWLINE_CHAR BRIAN KILMEADE (CO-HOST): If you think the tone and tenor of that explanation from Hillary Clinton kind of saying, \\\"where does that come\\\" from sounds familiar, it's exactly what -- it sounds familiar [sic]. It's about Benghazi, it's about when she talks about her emails. She said, \\\"where does this come from? I don\\u2019t know where you\\\" -- it makes you feel ridiculous for asking the question. ANNA KOOIMAN (CO-HOST): Yeah, nothing to see here. Nothing to see here. But those are two stories that she hasn't been able to shake either. [Fox News, Fox & Friends, 8/4/16] NEWLINE_CHAR NEWLINE_CHAR Laura Ingraham: \\u201cWhen She\\u2019s Asked A Question About An Uncomfortable Topic\\u201d Clinton \\u201cAlways Kind Of Has The Same Answer\\u201d That \\u201cIt\\u2019s Always Old News.\\u201d Radio host Laura Ingraham said Clinton \\u201calways kind of has the same answer\\u201d when responding to \\u201ca question about an uncomfortable topic,\\u201d saying Clinton\\u2019s response is to say \\u201cit\\u2019s always old news.\\u201d From the August 4 edition of Courtside Entertainment Group\\u2019s The Laura Ingraham Show: NEWLINE_CHAR NEWLINE_CHAR LAURA INGRAHAM (HOST): [Hillary Clinton] was instrumental in initiating the talks that led to the Iran deal, and was supportive of the Iran deal, we have to remember that. But as far as the actual pallets moving on the cargo plane and being dropped off in Iran, she was already out of office by then. But do you know what? When she's asked a question about an uncomfortable topic, I get a sense she always kind of has the same answer. [BEGIN CLIP] HILLARY CLINTON: This is kind of old news. [END CLIP] INGRAHAM: Oh. It's always old news. It just broke yesterday in The Wall Street Journal, it's old news. [Courtside Entertainment Group, The Laura Ingraham Show, 8/4/16] NEWLINE_CHAR NEWLINE_CHAR FACT: Clinton Was Correct: Media Outlets Including Fox News And WSJ Reported On Payment To Iran In January NEWLINE_CHAR NEWLINE_CHAR Fox News On January 18: \\u201cThe United States Has To Repay Iran A $400 Million Debt \\u2026 Dating Back To The Islamic Revolution.\\u201d On January 18, Fox News correspondent Kevin Corke reported that along with the prisoner exchange and the nuclear deal with Iran, \\u201cthe United States has to repay Iran a $400 million debt and $1.3 billion in interest dating back to the Islamic revolution.\\u201d Corke further explained, \\u201c[t]hat $400 million was actually set aside in a trust that Iranians hoped to use to buy U.S. military equipment back in 1979. But, of course, after the break down of diplomatic ties that money was held up so the U.S. has to give back that money; plus as I pointed out in the piece -- $1.3 billion on top of it.\\u201d [Fox News, Special Report with Bret Baier, 1/18/16, via Nexis] NEWLINE_CHAR NEWLINE_CHAR WSJ Reported On The Payment On January 21. The Wall Street Journal reported on January 21 that a \\u201c$1.7 billion financial settlement ended a 35-year legal saga that centered on a purchase of U.S. arms by Iran\\u2019s last monarch, Shah Mohammad Reza Pahlavi, that were never delivered because of the Iranian revolution in 1979.\\u201d [The Wall Street Journal, 1/21/16] NEWLINE_CHAR NEWLINE_CHAR Fox\\u2019s Charles Krauthammer: \\u201cThis Is Called Money Laundering.\\u201d Despite acknowledging that \\u201cthere is a statute that prohibits\\u201d the United States \\u201cfrom engaging in Iran dealing with dollars,\\u201d Fox News contributor Charles Krauthammer still falsely claimed that the $400 million cash transfer, is \\u201cmoney laundering.\\u201d From the August 8 edition of Fox News\\u2019 Special Report with Bret Baier: NEWLINE_CHAR NEWLINE_CHAR CHARLES KRAUTHAMMER: Well of course the Justice Department objected. It was illegal. It isn't only the optics. It isn't only that they are just looking ridiculous in denying that it was a quid pro quo. Obviously it wasn't a coincidence. The reason that it was objected to by Justice, there is a statute that prohibits us from engaging in Iran dealing with dollars. So they had to -- they had to print the money here, ship it over to Switzerland, turn it into Swiss francs and euros, and ship it over to Iran. If a private company had done this, this is called money laundering, the CEO would be in jail right now. [Fox News, Special Report with Bret Baier, 8/3/16] NEWLINE_CHAR NEWLINE_CHAR Wash. Post\\u2019s Jennifer Rubin Alleges \\u201cShady\\u201d Payment \\u201cLaunder[ed] The Money Through European Central Banks.\\u201d Conservative Washington Post blogger Jennifer Rubin cited \\u201cforeign policy gurus\\u201d who described the \\u201cshady\\u201d payment as \\u201cbulk cash smuggling\\u201d and \\u201claundering the money\\u201d through Europe. From an August 3 post on Rubin\\u2019s Right Turn blog: NEWLINE_CHAR NEWLINE_CHAR [A] number of foreign policy gurus have remarked on how shady the arrangement was. Michael Makovsky, CEO of JINSA, observes that \\u201cthe president has gone rather rogue by circumventing sanctions restrictions on banks by laundering the money through European central banks, which is not only wrong but sends a dangerous signal to other countries and companies.\\u201d He further notes, \\u201cThis payment coincided with not just the release of civilian hostages from Iran but also followed by a few days the release of American sailors who were abducted the prior week.\\u201d [...] Experts emphasize just how peculiar this arrangement was. \\u201cThe White House sent pallets of cash in an unmarked plane to pay off a state sponsor of terrorism. This is what we call \\u2018bulk cash smuggling\\u2019 in the terrorism finance business,\\u201d Jonathan Schanzer of the Foundation for Defense of Democracies remarks. \\u201cUntil recently, this kind of activity could result in punitive sanctions. Now, the Obama administration is trying to tell us that this is statecraft.\\u201d [The Washington Post, 8/3/16] NEWLINE_CHAR NEWLINE_CHAR FACT: \\u201cDue To International Sanctions Against Iran, The Payment, Made In Euros, Swiss Francs And Other Currencies, Had To Be Made In Cash\\u201d NEWLINE_CHAR NEWLINE_CHAR Reuters: \\u201cDue To International Sanctions Against Iran, The Payment \\u2026 Had To be Made In Cash.\\u201d According to an August 4 report by Reuters, which detailed the Obama administration\\u2019s responses to claims that the cash settlement sent to Iran was a \\u201cransom\\u201d payment, \\u201cinternational sanctions against Iran meant that the settlement had to be paid \\u201cin cash\\u201d: NEWLINE_CHAR NEWLINE_CHAR While there have long been questions about the timing of the payment, one Iranian concern was that the Obama administration could face too much domestic political criticism if it delayed acting on the tribunal's decision. Due to international sanctions against Iran, the payment, made in euros, Swiss francs and other currencies, had to be made in cash, U.S. officials argue. [Reuters, 8/4/16] NEWLINE_CHAR NEWLINE_CHAR CNN: Payment Could Not Be Made In American Dollars Because Of U.S. Sanctions. A CNN.com report explained that the payment to Iran had to be made in foreign currency because \\u201cexisting US sanctions ban American dollars from being used in a transaction with Iran.\\u201d [CNN.com, 8/4/16] NEWLINE_CHAR NEWLINE_CHAR The Atlantic\\u2019s Steve Clemons Explains That America Doesn\\u2019t Have Banking Relationships With Iran, \\u201cSo The Cash Payment Makes Total Sense.\\u201d MSNBC contributor and The Atlantic editor-at-large Steve Clemons explained that because of international sanctions, the United States \\u201cjust simply [does not] have financial arrangements with Iranian financial institutions\\u201d to facilitate money transfers between the two governments, \\u201cso the cash payment makes total sense.\\u201d From the August 3 edition of MSNBC Live:\",\n          \"Thank you for Reading. NEWLINE_CHAR NEWLINE_CHAR Please purchase a subscription to continue reading. NEWLINE_CHAR NEWLINE_CHAR A subscription is required to continue reading. NEWLINE_CHAR NEWLINE_CHAR Thank you for reading 5 free articles. You can come back at the end of your 30-day period for another 5 free articles, or you can purchase a subscription and continue to enjoy valuable local news and information. If you are a current 7-day subscriber you are granted an all-access pass to the website and digital newspaper replica. Please click Sign Up to subscribe, or Login if you are already a member. NEWLINE_CHAR NEWLINE_CHAR Thank you for reading 5 free articles. You can come back at the end of your 30-day period for another 5 free articles, or you can purchase a subscription and continue to enjoy valuable local news and information. If you are a current 7-day subscriber you are granted an all-access pass to the website and digital newspaper replica. Please click below to Get Started. ||||| Over the years, Richmond.com has published several data projects using public information. NEWLINE_CHAR NEWLINE_CHAR Here's a sampling of some of those projects. NEWLINE_CHAR NEWLINE_CHAR - Our annual database of state employee salaries was recently updated with 2016-17 data. NEWLINE_CHAR NEWLINE_CHAR - Our salary database of local government employees was updated recently with the 2016-17 data. ||||| A prominent political donor gave $70,000 to a corporation owned by Virginia Gov. Robert F. McDonnell and his sister last year, and the governor did not disclose the money as a gift or loan, according to people with knowledge of the payments. NEWLINE_CHAR NEWLINE_CHAR The donor, wealthy businessman Jonnie R. Williams Sr., also gave a previously unknown $50,000 check to the governor\\u2019s wife, Maureen, in 2011, the people said. NEWLINE_CHAR NEWLINE_CHAR The money to the corporation and Maureen McDonnell brings to $145,000 the amount Williams gave to assist the McDonnell family in 2011 and 2012 \\u2014 funds that are now at the center of federal and state investigations. NEWLINE_CHAR NEWLINE_CHAR Williams, the chief executive of dietary supplement manufacturer Star Scientific Inc., also provided a $10,000 check in December as a present to McDonnell\\u2019s eldest daughter, Jeanine, intended to help defray costs at her May 2013 wedding, the people said. NEWLINE_CHAR NEWLINE_CHAR Virginia\\u2019s first family already is under intense scrutiny for accepting $15,000 from the same chief executive to pay for the catering at the June 2011 wedding of Cailin McDonnell at the Executive Mansion. NEWLINE_CHAR NEWLINE_CHAR View Graphic Timeline: Star Scientific and Gov. McDonnell NEWLINE_CHAR NEWLINE_CHAR All the payments came as McDonnell and his wife took steps to promote the donor\\u2019s company and its products. NEWLINE_CHAR NEWLINE_CHAR The payments to the corporation, confirmed by people familiar with the transactions, offer the first public example of money provided by Williams that would directly benefit the governor and not just his family. NEWLINE_CHAR NEWLINE_CHAR The money went from a trust, controlled by Williams, to MoBo Real Estate Partners, a limited-liability corporation formed in 2005 by McDonnell and his sister, the sources said. NEWLINE_CHAR NEWLINE_CHAR McDonnell viewed the payments to MoBo and to his wife as loans and not gifts, according to three people familiar with the transactions. State law requires elected officials to disclose their personal loans but not loans made to their corporate interests. NEWLINE_CHAR NEWLINE_CHAR Tucker Martin, a spokesman for the governor, declined to comment on the payments other than to say that McDonnell has been diligent in filling out legally mandated disclosures. NEWLINE_CHAR NEWLINE_CHAR \\u201cThe rules that I\\u2019m following have been rules that have been in place for decades,\\u201d McDonnell said Tuesday on a Norfolk radio show. \\u201cThese have been the disclosure rules of Virginia. I\\u2019m following those. To, after the fact, impose some new requirements on an official when you haven\\u2019t kept record of other gifts given to family members or things like that obviously wouldn\\u2019t be fair.\\u201d NEWLINE_CHAR NEWLINE_CHAR State law requires the disclosure of any gift valued at more than $50, but gifts to family members are exempt. NEWLINE_CHAR NEWLINE_CHAR Jerry Kilgore, an attorney for Williams, declined to comment on the payments. A spokesman for the U.S. attorney investigating the payments also declined to comment. NEWLINE_CHAR NEWLINE_CHAR On state-mandated disclosure forms, McDonnell indicated that a member of his immediate family owed money to an unnamed individual creditor in 2011 and 2012. In one year, he described the creditor as someone in \\u201cmedical services.\\u201d In the other year, the governor said the creditor was in \\u201chealth care.\\u201d Star Scientific makes nutritional supplements. NEWLINE_CHAR NEWLINE_CHAR The form did not specify the exact amount owed; the governor checked a box saying it was between $10,001 and $50,000. NEWLINE_CHAR NEWLINE_CHAR The people familiar with the payments, who spoke on the condition of anonymity because of the sensitivity of state and federal investigations of the governor, differed on whether any kind of payment plan had been established to reimburse Williams. They agreed that none of the money to the corporation or Maureen McDonnell has been repaid. NEWLINE_CHAR NEWLINE_CHAR Revelations of the additional payments came as a federal grand jury was scheduled to hear testimony in the case this week. Separately, state prosecutors in Richmond are looking into whether the governor has complied with all disclosure laws. NEWLINE_CHAR NEWLINE_CHAR McDonnell has said that Star Scientific received no special benefits from his administration and that any actions he or his wife took to boost the company were standard for any administration promoting state-based enterprises. NEWLINE_CHAR NEWLINE_CHAR The $145,000 in payments from Williams came in addition to other undisclosed gifts that Williams gave to the governor\\u2019s family, including $15,000 in luxury clothing he bought for Maureen McDonnell and a $6,500 Rolex watch she asked him to purchase so she could give it to her husband. NEWLINE_CHAR NEWLINE_CHAR McDonnell has disclosed receiving $9,650 in gifts from Williams, including private plane trips and the use of a summer lake-house vacation. NEWLINE_CHAR NEWLINE_CHAR Wedding catering NEWLINE_CHAR NEWLINE_CHAR Williams\\u2019s first payment to the McDonnell family came in a $50,000 check made out to Maureen McDonnell from his trust on May 23, 2011, the people familiar with the transactions said. That was the same day Williams wrote a separate check for the catering at Cailin McDonnell\\u2019s wedding. NEWLINE_CHAR NEWLINE_CHAR Then, in March 2012, Williams wrote a $50,000 check from his trust to MoBo, which was followed by an additional $20,000 payment to the corporation that spring, the people said. NEWLINE_CHAR NEWLINE_CHAR In annual financial-disclosure forms, McDonnell has indicated that he owns a stake in MoBo, which he reported was associated with two Virginia Beach rental properties he purchased in 2005 and 2006 with his wife and his sister, who is also named Maureen. NEWLINE_CHAR NEWLINE_CHAR The name of MoBo, formed in 2005, apparently comes from the combination of the names \\u201cMaureen\\u201d and \\u201cBob\\u201d and is the entity that makes mortgage payments on the homes and pays for the properties\\u2019 renovations and upkeep. NEWLINE_CHAR NEWLINE_CHAR Virginia law allows elected officials to accept gifts of any size, including money, provided they annually disclose those worth at least $50. The law does not require the disclosure of gifts given to members of an elected official\\u2019s immediate family, nor gifts provided by relatives or \\u201cpersonal friends.\\u201d NEWLINE_CHAR NEWLINE_CHAR McDonnell has said he considers Williams, whom he met shortly before his 2009 campaign for governor, to be a \\u201cfamily friend.\\u201d He has said the catering at the 2011 wedding was a gift to his daughter and did not need to be disclosed. NEWLINE_CHAR NEWLINE_CHAR State law requires officials to disclose loans made to them and members of their immediate family. But it does not require elected officials to spell out their business liabilities. NEWLINE_CHAR NEWLINE_CHAR One person familiar with MoBo\\u2019s finances indicated that corporate records show the governor and his sister agreed to a low-interest loan with Williams. Terms of the loan dictated that they would make no payments for three years but return the $70,000 by 2015. NEWLINE_CHAR NEWLINE_CHAR That person indicated that MoBo had trouble keeping up with expenses after the collapse of the real estate market and had accepted three previous loans, two from McDonnell\\u2019s family in 2007 and 2008 and another from a family friend in 2010. NEWLINE_CHAR NEWLINE_CHAR He indicated that the loan to the family friend has been satisfied and the loans from the family member have been partially repaid. NEWLINE_CHAR NEWLINE_CHAR The payments came as Maureen McDonnell told friends that the first couple was facing financial stress, two people said, in part because of difficulty renting the beach houses. NEWLINE_CHAR NEWLINE_CHAR The governor, his wife and sister purchased one of the homes for $1.15 million in 2005 and the other for $850,000 in 2006. According to assessments, the beach properties have declined in value since the McDonnells purchased them during a red-hot real estate market. NEWLINE_CHAR NEWLINE_CHAR In his annual financial disclosures, the governor has also indicated an ownership stake in another rental property: at the Wintergreen mountain resort in central Virginia, purchased for $1 million in 2007. NEWLINE_CHAR NEWLINE_CHAR Also, the first couple bought a $835,000 house in the Richmond suburbs in 2006, where they were living until they moved to the state\\u2019s 200-year-old Executive Mansion when McDonnell became governor in 2010. NEWLINE_CHAR NEWLINE_CHAR Consulting payment alleged NEWLINE_CHAR NEWLINE_CHAR As governor, McDonnell is paid $175,000 a year. His wife is not paid by the state for her volunteer work as first lady. However, the chief executive of a coal company recently said he paid her $36,000 last year to attend two or three meetings and act as a consultant to his company and family\\u2019s charitable efforts. NEWLINE_CHAR NEWLINE_CHAR The governor has said Star Scientific received no government contracts, economic incentives or grants. NEWLINE_CHAR NEWLINE_CHAR However, the company was allowed to use the governor\\u2019s mansion to hold a luncheon to mark the launch of a new product in August 2011. NEWLINE_CHAR NEWLINE_CHAR A few weeks before, Maureen McDonnell arranged and attended a meeting between Williams and a top state official during which the executive presented new research about the potential health benefits of the supplement, Anatabloc, and proposed that Virginia consider examining whether its use could reduce health-care costs in the state. NEWLINE_CHAR NEWLINE_CHAR And Virginia Secretary of Health Bill Hazel said for the first time last week that he also met one-on-one with Williams in 2010 so the chief executive could pitch Star Scientific. NEWLINE_CHAR NEWLINE_CHAR Hazel said the meeting came at the urging of someone in the governor\\u2019s or first lady\\u2019s office, but he could not remember which. NEWLINE_CHAR NEWLINE_CHAR He said such meetings are not unusual. He concluded that Williams\\u2019s product was \\u201cnot ready for prime time\\u201d and said he was confident that Williams received no benefit from the meeting. NEWLINE_CHAR NEWLINE_CHAR Alice Crites and Carol Leonnig in Washington and Laura Vozzella and Errin Whack contributed to this report.\",\n          \"KABUL, Afghanistan (AP) \\u2014 Two U.S. soldiers were killed Saturday when an Afghan army solider opened fire on them in eastern Afghanistan, an Afghan official said. NEWLINE_CHAR NEWLINE_CHAR Attahullah Khogyani, spokesman for the provincial governor in Nangarhar province, said that two other U.S. soldiers are wounded in the attack, which took place in the Achin district. He said the Afghan soldier was killed after the attack. NEWLINE_CHAR NEWLINE_CHAR The Taliban claimed responsibility for the attack. Taliban spokesman Zabihullah Mujahid said in a statement that a Taliban loyalist had infiltrated the Afghan army \\\"just to attack foreign forces.\\\" NEWLINE_CHAR NEWLINE_CHAR A statement from the U.S. military said merely that the military was \\\"aware of an incident in eastern Afghanistan.\\\" NEWLINE_CHAR NEWLINE_CHAR White House spokesman Raj Shah told reporters traveling with the President Donald Trump in New Jersey that Trump was \\\"following the emerging situation in Afghanistan.\\\" NEWLINE_CHAR NEWLINE_CHAR Such insider attacks have happened before in Afghanistan. In March, another Afghan soldier was killed after he opened fire on foreign forces at a base in Helmand province, wounding three U.S. soldiers. ||||| (CNN) Three US soldiers were killed and another wounded during a joint US-Afghan military operation Saturday in Nangarhar province, US officials told CNN. NEWLINE_CHAR NEWLINE_CHAR The Pentagon named the three soldiers Monday as Sgt. Eric M. Houck, 25, of Baltimore; Sgt. William M. Bays, 29, of Barstow, California; and Cpl. Dillon C. Baldridge, 22, of Youngsville, North Carolina. NEWLINE_CHAR NEWLINE_CHAR On Monday evening Vice President Pence was at Dover Air Force Base to attend the dignified transfer of the three soldiers. NEWLINE_CHAR NEWLINE_CHAR Pence stood with his hand over his heart as the flag draped caskets were brought off the plane. NEWLINE_CHAR NEWLINE_CHAR An American official said the soldiers were shot in an apparent insider attack, also known as a \\\" green-on-blue \\\" incident because of the color-coding system used by NATO. During such assaults, members of the Afghan security forces are known to target US and other NATO soldiers. NEWLINE_CHAR NEWLINE_CHAR The shooter in Saturday's incident was an Afghan army commando, Nangarhar provincial spokesman Attaullah Khogyani said. He said the assailant was killed by Afghan forces. NEWLINE_CHAR NEWLINE_CHAR Three US troops were killed Saturday in Achin District. NEWLINE_CHAR NEWLINE_CHAR The shootings occurred in the Achin District, where US and Afghan troops have been carrying out a monthslong offensive against a local affiliate of ISIS, officials said. NEWLINE_CHAR NEWLINE_CHAR Taliban claim responsibility NEWLINE_CHAR NEWLINE_CHAR Taliban spokesman Zabiullah Mujahid said the militants claimed responsibility for the attack. NEWLINE_CHAR NEWLINE_CHAR \\\"A Mujahid (freedom fighter) infiltrator of the Islamic Emirate who had enrolled himself in the Kabul government's army attacked American soldiers in Lata Band area of Achin District in Nangarhar province today in the afternoon,\\\" said a written statement in Pashto obtained by CNN. \\\"The American invaders were there to support their Afghan slaves.\\\" NEWLINE_CHAR NEWLINE_CHAR Cpl. Dillon C. Baldridge NEWLINE_CHAR NEWLINE_CHAR Sgt. William M. Bays NEWLINE_CHAR NEWLINE_CHAR Sgt. Eric M. Houck NEWLINE_CHAR NEWLINE_CHAR US President Donald Trump was briefed on the shootings, and Vice President Mike Pence said Saturday that details of the attack would be forthcoming. NEWLINE_CHAR NEWLINE_CHAR \\\"When heroes fall, Americans grieve,\\\" Pence said Saturday. \\\"Our thoughts and prayers are with the families of these American heroes.\\\" NEWLINE_CHAR NEWLINE_CHAR White House Press Secretary Sean Spicer acknowledged the deaths in his Monday briefing. NEWLINE_CHAR NEWLINE_CHAR \\\"The incident is currently under investigation, but our thoughts and our prayers are with the families of these American heroes who lost their lives in this tragic event,\\\" Spicer said. NEWLINE_CHAR NEWLINE_CHAR A US military spokesman in Afghanistan said the military \\\"will release more information when appropriate.\\\" NEWLINE_CHAR NEWLINE_CHAR Soldiers' families mourn NEWLINE_CHAR NEWLINE_CHAR Houck had two children, 5 and 3, and was due to come home next month, his father, Mike, told CNN affiliate WBAL NEWLINE_CHAR NEWLINE_CHAR \\\"He is a hero,\\\" Mike Houck told the station. NEWLINE_CHAR NEWLINE_CHAR \\\"You realize that important person you love is never coming back into your life,\\\" he added. \\\"He'll always be in my heart. He'll always be in my thoughts.\\\" NEWLINE_CHAR NEWLINE_CHAR Baldridge was also supposed to return home this summer. Family members told CNN affiliate WRAL he went to Afghanistan in October and was due back in August. NEWLINE_CHAR NEWLINE_CHAR Russell Holloman, the principal of Franklinton High School, said Baldridge, who graduated in 2012, was a kindhearted and giving person. NEWLINE_CHAR NEWLINE_CHAR \\\"He made an early commitment to the military during his high school career and maintained that focus and selfless dedication after graduation,\\\" Holloman said in a statement. \\\"Our community has truly lost a hero.\\\" NEWLINE_CHAR NEWLINE_CHAR Afghan police killed in another incident NEWLINE_CHAR NEWLINE_CHAR In Kabul, meanwhile, the US military command said an unspecified number of Afghan police were killed and wounded in a \\\"friendly fire\\\" incident during a joint Afghan-US operation overnight Saturday. NEWLINE_CHAR NEWLINE_CHAR JUST WATCHED What is going on in Afghanistan? Replay More Videos ... MUST WATCH What is going on in Afghanistan? 01:48 NEWLINE_CHAR NEWLINE_CHAR US Forces Afghanistan said members of the Afghan Border Police in Helmand province were killed and wounded during an operation involving US and Afghan defense and security forces. NEWLINE_CHAR NEWLINE_CHAR The deaths occurred when a US aircraft fired on Afghan police, said Omar Zawak, spokesman for the governor of Helmand. NEWLINE_CHAR NEWLINE_CHAR US Forces Afghanistan was investigating the incident. NEWLINE_CHAR NEWLINE_CHAR Two US service members killed in April NEWLINE_CHAR NEWLINE_CHAR JUST WATCHED Taliban attack kills, injures more than 100 Replay More Videos ... MUST WATCH Taliban attack kills, injures more than 100 01:55 NEWLINE_CHAR NEWLINE_CHAR US and coalition casualties in Afghanistan have become rarer in recent years, falling dramatically since the Afghan government assumed responsibility for combat operations in 2014. NEWLINE_CHAR NEWLINE_CHAR But in late April, two US service members were killed and another wounded while conducting a joint raid in the Achin District, a Pentagon spokesman said. The operation was targeting ISIS-K, the terrorist group's Afghanistan affiliate. NEWLINE_CHAR NEWLINE_CHAR Achin District is the primary base of operations for ISIS in Afghanistan and has been the site of multiple joint US-Afghan counterterrorism missions. A US Army Special Forces soldier was killed fighting the terrorist group there in early April. NEWLINE_CHAR NEWLINE_CHAR The district is also where the United States dropped one of its most powerful bombs , killing close to 100 ISIS fighters, according to Afghan officials. NEWLINE_CHAR NEWLINE_CHAR Beginning in 2016, Afghan security forces backed by US military advisers launched a major offensive against ISIS. Gen. John W. Nicholson, commander of US Forces Afghanistan, has said the terrorist group has lost about half its fighters and been ejected from two-thirds of its territory. NEWLINE_CHAR NEWLINE_CHAR The latest counter-ISIS push began in March of this year. NEWLINE_CHAR NEWLINE_CHAR US officials estimate ISIS has 600 to 800 fighters in the country, mostly former members of other regional terrorist groups, such as the Pakistani Taliban and Islamic Movement of Uzbekistan. ISIS is believed to be behind a series of terrorist attacks, including the recent fatal attack on a hospital in Kabul. NEWLINE_CHAR NEWLINE_CHAR There are about 8,400 US troops in Afghanistan. The US counterterrorism mission is separate from the NATO-led effort to train, advise and assist the Afghan army and police force in the fight against the Taliban.\"\n        ],\n        \"semantic_type\": \"\",\n        \"description\": \"\"\n      }\n    },\n    {\n      \"column\": \"summary\",\n      \"properties\": {\n        \"dtype\": \"string\",\n        \"num_unique_values\": 500,\n        \"samples\": [\n          \"\\u2013 As the White House continued to deflect accusations from conservatives that a $400 million payment to Iran was ransom for four American detainees released earlier this year, Donald Trump twice this week claimed he had seen video of a \\\"top secret\\\" transaction in which the huge supposed payout was unloaded from a US airplane in Iran, per the Washington Post. At a rally Wednesday in Daytona Beach, Fla., Trump claimed the \\\"military tape\\\" purportedly showing \\\"money pouring off a plane\\\" had been released by Iran to \\\"embarrass\\\" the US. He again voiced the claim about the video during a Thursday rally in Portland, Maine, adding that Iran hoped to personally embarrass an \\\"incompetent\\\" President Obama with the video, the Los Angeles Times and CNN report. His remarks caused a temporary hubbub, as some speculated that perhaps he had seen a classified video during security briefings afforded to presidential nominees. But what Trump had actually seen soon came to light: \\\"b-roll footage,\\\" his spokeswoman emailed the Post, that had been playing behind news reports. It showed not a money swap but an AP clip of three US prisoners released by Iran and arriving in Geneva on Jan. 17. That led Trump to point out his own error on Twitter on Friday morning (though CNN notes he did so \\\"without actually saying he was wrong\\\"): \\\"The plane I saw on television was the hostage plane in Geneva, Switzerland, not the plane carrying $400 million in cash going to Iran!\\\" he tweeted.\",\n          \"\\u2013 The investigation into the relationship between Virginia Gov. Bob McDonnell and Jonnie R. Williams Sr., CEO of Star Scientific, continues, with a new $130,000 reveal. Williams gave $70,000 to a McDonnell-owned corporation last year, another $50,000 to McDonnell's wife, Maureen, in 2011, and $10,000 to McDonnell's daughter in December, sources tell the Washington Post. The governor didn't disclose any of those amounts. Previously revealed gifts included another \\\"wedding gift\\\" for McDonnell's daughter and a $6,500 Rolex, among other things. More unpleasantness for the McDonnell family: Sean McDonnell, the governor's 21-year-old son, was busted early Saturday on a public drunkenness charge, the Daily Progress reports. Police found him intoxicated in Charlottesville, where he attends the University of Virginia. And, facing pressure over the misuse of Executive Mansion resources for his family, McDonnell recently paid the state $2,400 to reimburse it for food and household supplies his kids used, the Richmond Times-Dispatch reports. Specifically, McDonnell has been accused of sending things like paper towels and laundry detergent back to college with his children.\",\n          \"\\u2013 Three US soldiers were killed Saturday when an Afghan army solider opened fire on them in eastern Afghanistan, US officials tell CNN. One other US soldier was wounded in the attack, which took place in the Achin district. An Afghan official said the Afghan soldier was killed after the attack. The AP reports the Taliban claimed responsibility for the attack. Taliban spokesperson Zabihullah Mujahid said in a statement that a Taliban loyalist had infiltrated the Afghan army \\\"just to attack foreign forces.\\\" A statement from the US military said merely that the military was \\\"aware of an incident in eastern Afghanistan.\\\" White House spokesperson Raj Shah told reporters traveling with President Trump in New Jersey that Trump was \\\"following the emerging situation in Afghanistan.\\\" Such insider attacks have happened before in Afghanistan. In March, another Afghan soldier was killed after he opened fire on foreign forces at a base in Helmand province, wounding three US soldiers.\"\n        ],\n        \"semantic_type\": \"\",\n        \"description\": \"\"\n      }\n    }\n  ]\n}",
              "type": "dataframe",
              "variable_name": "df"
            },
            "text/html": [
              "\n",
              "  <div id=\"df-e2909e07-ab5a-4b29-bcff-46fdb14b0d52\" class=\"colab-df-container\">\n",
              "    <div>\n",
              "<style scoped>\n",
              "    .dataframe tbody tr th:only-of-type {\n",
              "        vertical-align: middle;\n",
              "    }\n",
              "\n",
              "    .dataframe tbody tr th {\n",
              "        vertical-align: top;\n",
              "    }\n",
              "\n",
              "    .dataframe thead th {\n",
              "        text-align: right;\n",
              "    }\n",
              "</style>\n",
              "<table border=\"1\" class=\"dataframe\">\n",
              "  <thead>\n",
              "    <tr style=\"text-align: right;\">\n",
              "      <th></th>\n",
              "      <th>document</th>\n",
              "      <th>summary</th>\n",
              "    </tr>\n",
              "  </thead>\n",
              "  <tbody>\n",
              "    <tr>\n",
              "      <th>0</th>\n",
              "      <td>National Archives NEWLINE_CHAR NEWLINE_CHAR Ye...</td>\n",
              "      <td>– The unemployment rate dropped to 8.2% last m...</td>\n",
              "    </tr>\n",
              "    <tr>\n",
              "      <th>1</th>\n",
              "      <td>LOS ANGELES (AP) — In her first interview sinc...</td>\n",
              "      <td>– Shelly Sterling plans \"eventually\" to divorc...</td>\n",
              "    </tr>\n",
              "    <tr>\n",
              "      <th>2</th>\n",
              "      <td>GAITHERSBURG, Md. (AP) — A small, private jet ...</td>\n",
              "      <td>– A twin-engine Embraer jet that the FAA descr...</td>\n",
              "    </tr>\n",
              "    <tr>\n",
              "      <th>3</th>\n",
              "      <td>Tucker Carlson Exposes His Own Sexism on Twitt...</td>\n",
              "      <td>– Tucker Carlson is in deep doodoo with conser...</td>\n",
              "    </tr>\n",
              "    <tr>\n",
              "      <th>4</th>\n",
              "      <td>A man accused of removing another man's testic...</td>\n",
              "      <td>– What are the three most horrifying words in ...</td>\n",
              "    </tr>\n",
              "  </tbody>\n",
              "</table>\n",
              "</div>\n",
              "    <div class=\"colab-df-buttons\">\n",
              "\n",
              "  <div class=\"colab-df-container\">\n",
              "    <button class=\"colab-df-convert\" onclick=\"convertToInteractive('df-e2909e07-ab5a-4b29-bcff-46fdb14b0d52')\"\n",
              "            title=\"Convert this dataframe to an interactive table.\"\n",
              "            style=\"display:none;\">\n",
              "\n",
              "  <svg xmlns=\"http://www.w3.org/2000/svg\" height=\"24px\" viewBox=\"0 -960 960 960\">\n",
              "    <path d=\"M120-120v-720h720v720H120Zm60-500h600v-160H180v160Zm220 220h160v-160H400v160Zm0 220h160v-160H400v160ZM180-400h160v-160H180v160Zm440 0h160v-160H620v160ZM180-180h160v-160H180v160Zm440 0h160v-160H620v160Z\"/>\n",
              "  </svg>\n",
              "    </button>\n",
              "\n",
              "  <style>\n",
              "    .colab-df-container {\n",
              "      display:flex;\n",
              "      gap: 12px;\n",
              "    }\n",
              "\n",
              "    .colab-df-convert {\n",
              "      background-color: #E8F0FE;\n",
              "      border: none;\n",
              "      border-radius: 50%;\n",
              "      cursor: pointer;\n",
              "      display: none;\n",
              "      fill: #1967D2;\n",
              "      height: 32px;\n",
              "      padding: 0 0 0 0;\n",
              "      width: 32px;\n",
              "    }\n",
              "\n",
              "    .colab-df-convert:hover {\n",
              "      background-color: #E2EBFA;\n",
              "      box-shadow: 0px 1px 2px rgba(60, 64, 67, 0.3), 0px 1px 3px 1px rgba(60, 64, 67, 0.15);\n",
              "      fill: #174EA6;\n",
              "    }\n",
              "\n",
              "    .colab-df-buttons div {\n",
              "      margin-bottom: 4px;\n",
              "    }\n",
              "\n",
              "    [theme=dark] .colab-df-convert {\n",
              "      background-color: #3B4455;\n",
              "      fill: #D2E3FC;\n",
              "    }\n",
              "\n",
              "    [theme=dark] .colab-df-convert:hover {\n",
              "      background-color: #434B5C;\n",
              "      box-shadow: 0px 1px 3px 1px rgba(0, 0, 0, 0.15);\n",
              "      filter: drop-shadow(0px 1px 2px rgba(0, 0, 0, 0.3));\n",
              "      fill: #FFFFFF;\n",
              "    }\n",
              "  </style>\n",
              "\n",
              "    <script>\n",
              "      const buttonEl =\n",
              "        document.querySelector('#df-e2909e07-ab5a-4b29-bcff-46fdb14b0d52 button.colab-df-convert');\n",
              "      buttonEl.style.display =\n",
              "        google.colab.kernel.accessAllowed ? 'block' : 'none';\n",
              "\n",
              "      async function convertToInteractive(key) {\n",
              "        const element = document.querySelector('#df-e2909e07-ab5a-4b29-bcff-46fdb14b0d52');\n",
              "        const dataTable =\n",
              "          await google.colab.kernel.invokeFunction('convertToInteractive',\n",
              "                                                    [key], {});\n",
              "        if (!dataTable) return;\n",
              "\n",
              "        const docLinkHtml = 'Like what you see? Visit the ' +\n",
              "          '<a target=\"_blank\" href=https://colab.research.google.com/notebooks/data_table.ipynb>data table notebook</a>'\n",
              "          + ' to learn more about interactive tables.';\n",
              "        element.innerHTML = '';\n",
              "        dataTable['output_type'] = 'display_data';\n",
              "        await google.colab.output.renderOutput(dataTable, element);\n",
              "        const docLink = document.createElement('div');\n",
              "        docLink.innerHTML = docLinkHtml;\n",
              "        element.appendChild(docLink);\n",
              "      }\n",
              "    </script>\n",
              "  </div>\n",
              "\n",
              "\n",
              "    <div id=\"df-ec932c48-6b19-4b1e-bde8-db0982022313\">\n",
              "      <button class=\"colab-df-quickchart\" onclick=\"quickchart('df-ec932c48-6b19-4b1e-bde8-db0982022313')\"\n",
              "                title=\"Suggest charts\"\n",
              "                style=\"display:none;\">\n",
              "\n",
              "<svg xmlns=\"http://www.w3.org/2000/svg\" height=\"24px\"viewBox=\"0 0 24 24\"\n",
              "     width=\"24px\">\n",
              "    <g>\n",
              "        <path d=\"M19 3H5c-1.1 0-2 .9-2 2v14c0 1.1.9 2 2 2h14c1.1 0 2-.9 2-2V5c0-1.1-.9-2-2-2zM9 17H7v-7h2v7zm4 0h-2V7h2v10zm4 0h-2v-4h2v4z\"/>\n",
              "    </g>\n",
              "</svg>\n",
              "      </button>\n",
              "\n",
              "<style>\n",
              "  .colab-df-quickchart {\n",
              "      --bg-color: #E8F0FE;\n",
              "      --fill-color: #1967D2;\n",
              "      --hover-bg-color: #E2EBFA;\n",
              "      --hover-fill-color: #174EA6;\n",
              "      --disabled-fill-color: #AAA;\n",
              "      --disabled-bg-color: #DDD;\n",
              "  }\n",
              "\n",
              "  [theme=dark] .colab-df-quickchart {\n",
              "      --bg-color: #3B4455;\n",
              "      --fill-color: #D2E3FC;\n",
              "      --hover-bg-color: #434B5C;\n",
              "      --hover-fill-color: #FFFFFF;\n",
              "      --disabled-bg-color: #3B4455;\n",
              "      --disabled-fill-color: #666;\n",
              "  }\n",
              "\n",
              "  .colab-df-quickchart {\n",
              "    background-color: var(--bg-color);\n",
              "    border: none;\n",
              "    border-radius: 50%;\n",
              "    cursor: pointer;\n",
              "    display: none;\n",
              "    fill: var(--fill-color);\n",
              "    height: 32px;\n",
              "    padding: 0;\n",
              "    width: 32px;\n",
              "  }\n",
              "\n",
              "  .colab-df-quickchart:hover {\n",
              "    background-color: var(--hover-bg-color);\n",
              "    box-shadow: 0 1px 2px rgba(60, 64, 67, 0.3), 0 1px 3px 1px rgba(60, 64, 67, 0.15);\n",
              "    fill: var(--button-hover-fill-color);\n",
              "  }\n",
              "\n",
              "  .colab-df-quickchart-complete:disabled,\n",
              "  .colab-df-quickchart-complete:disabled:hover {\n",
              "    background-color: var(--disabled-bg-color);\n",
              "    fill: var(--disabled-fill-color);\n",
              "    box-shadow: none;\n",
              "  }\n",
              "\n",
              "  .colab-df-spinner {\n",
              "    border: 2px solid var(--fill-color);\n",
              "    border-color: transparent;\n",
              "    border-bottom-color: var(--fill-color);\n",
              "    animation:\n",
              "      spin 1s steps(1) infinite;\n",
              "  }\n",
              "\n",
              "  @keyframes spin {\n",
              "    0% {\n",
              "      border-color: transparent;\n",
              "      border-bottom-color: var(--fill-color);\n",
              "      border-left-color: var(--fill-color);\n",
              "    }\n",
              "    20% {\n",
              "      border-color: transparent;\n",
              "      border-left-color: var(--fill-color);\n",
              "      border-top-color: var(--fill-color);\n",
              "    }\n",
              "    30% {\n",
              "      border-color: transparent;\n",
              "      border-left-color: var(--fill-color);\n",
              "      border-top-color: var(--fill-color);\n",
              "      border-right-color: var(--fill-color);\n",
              "    }\n",
              "    40% {\n",
              "      border-color: transparent;\n",
              "      border-right-color: var(--fill-color);\n",
              "      border-top-color: var(--fill-color);\n",
              "    }\n",
              "    60% {\n",
              "      border-color: transparent;\n",
              "      border-right-color: var(--fill-color);\n",
              "    }\n",
              "    80% {\n",
              "      border-color: transparent;\n",
              "      border-right-color: var(--fill-color);\n",
              "      border-bottom-color: var(--fill-color);\n",
              "    }\n",
              "    90% {\n",
              "      border-color: transparent;\n",
              "      border-bottom-color: var(--fill-color);\n",
              "    }\n",
              "  }\n",
              "</style>\n",
              "\n",
              "      <script>\n",
              "        async function quickchart(key) {\n",
              "          const quickchartButtonEl =\n",
              "            document.querySelector('#' + key + ' button');\n",
              "          quickchartButtonEl.disabled = true;  // To prevent multiple clicks.\n",
              "          quickchartButtonEl.classList.add('colab-df-spinner');\n",
              "          try {\n",
              "            const charts = await google.colab.kernel.invokeFunction(\n",
              "                'suggestCharts', [key], {});\n",
              "          } catch (error) {\n",
              "            console.error('Error during call to suggestCharts:', error);\n",
              "          }\n",
              "          quickchartButtonEl.classList.remove('colab-df-spinner');\n",
              "          quickchartButtonEl.classList.add('colab-df-quickchart-complete');\n",
              "        }\n",
              "        (() => {\n",
              "          let quickchartButtonEl =\n",
              "            document.querySelector('#df-ec932c48-6b19-4b1e-bde8-db0982022313 button');\n",
              "          quickchartButtonEl.style.display =\n",
              "            google.colab.kernel.accessAllowed ? 'block' : 'none';\n",
              "        })();\n",
              "      </script>\n",
              "    </div>\n",
              "\n",
              "    </div>\n",
              "  </div>\n"
            ],
            "text/plain": [
              "                                            document  \\\n",
              "0  National Archives NEWLINE_CHAR NEWLINE_CHAR Ye...   \n",
              "1  LOS ANGELES (AP) — In her first interview sinc...   \n",
              "2  GAITHERSBURG, Md. (AP) — A small, private jet ...   \n",
              "3  Tucker Carlson Exposes His Own Sexism on Twitt...   \n",
              "4  A man accused of removing another man's testic...   \n",
              "\n",
              "                                             summary  \n",
              "0  – The unemployment rate dropped to 8.2% last m...  \n",
              "1  – Shelly Sterling plans \"eventually\" to divorc...  \n",
              "2  – A twin-engine Embraer jet that the FAA descr...  \n",
              "3  – Tucker Carlson is in deep doodoo with conser...  \n",
              "4  – What are the three most horrifying words in ...  "
            ]
          },
          "execution_count": 6,
          "metadata": {},
          "output_type": "execute_result"
        }
      ],
      "source": [
        "# Trim both lists to the same length before cleaning\n",
        "min_len = min(len(docs), len(summaries))\n",
        "docs = docs[:min_len]\n",
        "summaries = summaries[:min_len]\n",
        "\n",
        "# Strip and build the DataFrame\n",
        "df = pd.DataFrame({\n",
        "    \"document\": [doc.strip() for doc in docs],\n",
        "    \"summary\": [summary.strip() for summary in summaries]\n",
        "})\n",
        "\n",
        "df.head()"
      ]
    },
    {
      "cell_type": "code",
      "execution_count": null,
      "metadata": {
        "id": "BSV9G9qawq1Z"
      },
      "outputs": [],
      "source": [
        "from datasets import Dataset\n",
        "\n",
        "dataset = Dataset.from_pandas(df)"
      ]
    },
    {
      "cell_type": "code",
      "execution_count": null,
      "metadata": {
        "colab": {
          "base_uri": "https://localhost:8080/"
        },
        "id": "AWaPmRl-w00H",
        "outputId": "72cba372-c4b0-4a19-fc2b-7ed903a982ca"
      },
      "outputs": [
        {
          "name": "stderr",
          "output_type": "stream",
          "text": [
            "/usr/local/lib/python3.11/dist-packages/huggingface_hub/utils/_auth.py:94: UserWarning: \n",
            "The secret `HF_TOKEN` does not exist in your Colab secrets.\n",
            "To authenticate with the Hugging Face Hub, create a token in your settings tab (https://huggingface.co/settings/tokens), set it as secret in your Google Colab and restart your session.\n",
            "You will be able to reuse this secret in all of your notebooks.\n",
            "Please note that authentication is recommended but still optional to access public models or datasets.\n",
            "  warnings.warn(\n"
          ]
        }
      ],
      "source": [
        "from transformers import AutoTokenizer\n",
        "\n",
        "tokenizer = AutoTokenizer.from_pretrained(\"t5-small\")"
      ]
    },
    {
      "cell_type": "code",
      "execution_count": null,
      "metadata": {
        "colab": {
          "base_uri": "https://localhost:8080/",
          "height": 104,
          "referenced_widgets": [
            "4db34c2408f54961bbf97348ea5b3f95",
            "f7d594e7dc7b4357bfe167001dc5ee4e",
            "58576fabffa04342b68d9c58ec306b13",
            "ff1aada3147e4f5aae0196c3ab359151",
            "9b90f0eb403340f6964ceea52190624e",
            "fff427d4fa35415cb2ca26c493e23f4d",
            "652d759c861948ff92d09196dd3088ba",
            "1ab62e25ca4b4312b545dfd68f8f75b7",
            "a5a2124c5bd7464ba1a5b9a918d023ca",
            "50b0d5b5982f4668b35ca6854eeba670",
            "d8e553e0b4f94ebca43c23f22d8f0e0b"
          ]
        },
        "id": "hlJQopz9xLDA",
        "outputId": "a61b80b2-613a-4d62-c1d4-463eb0423b12"
      },
      "outputs": [
        {
          "data": {
            "application/vnd.jupyter.widget-view+json": {
              "model_id": "4db34c2408f54961bbf97348ea5b3f95",
              "version_major": 2,
              "version_minor": 0
            },
            "text/plain": [
              "Map:   0%|          | 0/500 [00:00<?, ? examples/s]"
            ]
          },
          "metadata": {},
          "output_type": "display_data"
        },
        {
          "name": "stderr",
          "output_type": "stream",
          "text": [
            "/usr/local/lib/python3.11/dist-packages/transformers/tokenization_utils_base.py:3959: UserWarning: `as_target_tokenizer` is deprecated and will be removed in v5 of Transformers. You can tokenize your labels by using the argument `text_target` of the regular `__call__` method (either in the same call as your input texts if you use the same keyword arguments, or in a separate call.\n",
            "  warnings.warn(\n"
          ]
        }
      ],
      "source": [
        "def preprocess_function(examples):\n",
        "    inputs = [\"summarize: \" + doc for doc in examples[\"document\"]]\n",
        "    model_inputs = tokenizer(inputs, max_length=512, truncation=True, padding=\"max_length\")\n",
        "\n",
        "    with tokenizer.as_target_tokenizer():\n",
        "        labels = tokenizer(examples[\"summary\"], max_length=128, truncation=True, padding=\"max_length\")\n",
        "\n",
        "    model_inputs[\"labels\"] = labels[\"input_ids\"]\n",
        "    return model_inputs\n",
        "\n",
        "tokenized_dataset = dataset.map(preprocess_function, batched=True)\n",
        "\n",
        "# --- Slice the dataset for faster training ---\n",
        "small_dataset = tokenized_dataset.select(range(100))  # or whatever size\n",
        "small_dataset.set_format(\"torch\", columns=[\"input_ids\", \"attention_mask\", \"labels\"])  # ✅ Add this line\n",
        "\n",
        "# --- Create DataLoader with smaller dataset ---\n",
        "train_loader = DataLoader(small_dataset, batch_size=4, shuffle=True)\n"
      ]
    },
    {
      "cell_type": "code",
      "execution_count": null,
      "metadata": {
        "colab": {
          "base_uri": "https://localhost:8080/",
          "height": 49,
          "referenced_widgets": [
            "29f7aeabc31049c78fb7d3906a90c5b5",
            "aa2d847176d946f2b7fc92c747caf431",
            "fc2593afb0554e1b9b3366213e4a6353",
            "add136275f144bdcabcc9eba5265c0ae",
            "b255bf2d3dbd45ea960635077c11ae9c",
            "a5c3db7ac2a841fdbd793dee9093664d",
            "cc8a6d4ca9fd4fec8bae9cefc4250ca9",
            "22c2af6265794684a9414e6f40caf149",
            "7a686854d8e2472ea340e84dd9ddd093",
            "4719af52c835403e8743e7d0f06752e9",
            "7b242b16142d440b887d095f9e3f190a"
          ]
        },
        "id": "RKJJ422MGZZ7",
        "outputId": "4beb27a7-a23a-463f-b54f-6dd7c3e0088f"
      },
      "outputs": [
        {
          "data": {
            "application/vnd.jupyter.widget-view+json": {
              "model_id": "29f7aeabc31049c78fb7d3906a90c5b5",
              "version_major": 2,
              "version_minor": 0
            },
            "text/plain": [
              "Saving the dataset (0/1 shards):   0%|          | 0/100 [00:00<?, ? examples/s]"
            ]
          },
          "metadata": {},
          "output_type": "display_data"
        }
      ],
      "source": [
        "small_dataset.save_to_disk(\"tokenized_sample_dataset\")"
      ]
    },
    {
      "cell_type": "code",
      "execution_count": null,
      "metadata": {
        "id": "r38kDmtoO9j7"
      },
      "outputs": [],
      "source": [
        "from datasets import load_from_disk\n",
        "small_dataset = load_from_disk(\"tokenized_sample_dataset\")"
      ]
    },
    {
      "cell_type": "code",
      "execution_count": null,
      "metadata": {
        "id": "hgaO9x6aPTce"
      },
      "outputs": [],
      "source": []
    },
    {
      "cell_type": "code",
      "execution_count": null,
      "metadata": {
        "id": "7zURlC8ngf3N"
      },
      "outputs": [],
      "source": [
        "from torch.utils.data import DataLoader\n",
        "from transformers import AutoModelForSeq2SeqLM\n",
        "from accelerate import Accelerator\n",
        "\n",
        "# Initialize accelerator\n",
        "accelerator = Accelerator()\n",
        "\n",
        "# Load model\n",
        "model_name = \"t5-small\"\n",
        "model = AutoModelForSeq2SeqLM.from_pretrained(model_name)\n",
        "\n",
        "# Load optimizer\n",
        "optimizer = AdamW(model.parameters(), lr=5e-5)\n",
        "\n",
        "# Prepare model, optimizer, and DataLoader using accelerator\n",
        "model, optimizer, train_loader = accelerator.prepare(model, optimizer, train_loader)\n"
      ]
    },
    {
      "cell_type": "code",
      "execution_count": null,
      "metadata": {
        "id": "ljJO25gqg4JL"
      },
      "outputs": [],
      "source": [
        "from torch.optim import AdamW\n",
        "\n",
        "optimizer = AdamW(model.parameters(), lr=5e-5)"
      ]
    },
    {
      "cell_type": "code",
      "execution_count": null,
      "metadata": {
        "colab": {
          "base_uri": "https://localhost:8080/"
        },
        "id": "j1cAZ2uYg9aw",
        "outputId": "5ec39511-4895-4a6d-b262-dc37831dda2f"
      },
      "outputs": [
        {
          "name": "stderr",
          "output_type": "stream",
          "text": [
            "Passing a tuple of `past_key_values` is deprecated and will be removed in Transformers v4.48.0. You should pass an instance of `EncoderDecoderCache` instead, e.g. `past_key_values=EncoderDecoderCache.from_legacy_cache(past_key_values)`.\n"
          ]
        },
        {
          "name": "stdout",
          "output_type": "stream",
          "text": [
            "✅ Epoch 1/3 complete! Avg Loss: 4.3021\n",
            "✅ Epoch 2/3 complete! Avg Loss: 3.6566\n",
            "✅ Epoch 3/3 complete! Avg Loss: 3.5055\n"
          ]
        }
      ],
      "source": [
        "model.train()\n",
        "num_epochs = 3  # You can bump to 5 later\n",
        "\n",
        "for epoch in range(num_epochs):\n",
        "    total_loss = 0\n",
        "\n",
        "    for batch in train_loader:\n",
        "        inputs = batch[\"input_ids\"]\n",
        "        attention_mask = batch[\"attention_mask\"]\n",
        "        labels = batch[\"labels\"]\n",
        "\n",
        "        outputs = model(input_ids=inputs, attention_mask=attention_mask, labels=labels)\n",
        "        loss = outputs.loss\n",
        "        accelerator.backward(loss)\n",
        "\n",
        "        optimizer.step()\n",
        "        optimizer.zero_grad()\n",
        "\n",
        "        total_loss += loss.item()\n",
        "\n",
        "    print(f\"✅ Epoch {epoch+1}/{num_epochs} complete! Avg Loss: {total_loss / len(train_loader):.4f}\")\n"
      ]
    },
    {
      "cell_type": "code",
      "execution_count": null,
      "metadata": {
        "colab": {
          "base_uri": "https://localhost:8080/"
        },
        "id": "1cy5-3SGVZg-",
        "outputId": "a02c1ab7-0bd2-4243-f36c-66d741a9f183"
      },
      "outputs": [
        {
          "data": {
            "text/plain": [
              "('t5_finetuned_summary/tokenizer_config.json',\n",
              " 't5_finetuned_summary/special_tokens_map.json',\n",
              " 't5_finetuned_summary/spiece.model',\n",
              " 't5_finetuned_summary/added_tokens.json',\n",
              " 't5_finetuned_summary/tokenizer.json')"
            ]
          },
          "execution_count": 13,
          "metadata": {},
          "output_type": "execute_result"
        }
      ],
      "source": [
        "model.save_pretrained(\"t5_finetuned_summary\")\n",
        "tokenizer.save_pretrained(\"t5_finetuned_summary\")"
      ]
    },
    {
      "cell_type": "code",
      "execution_count": null,
      "metadata": {
        "id": "FJNVgSJhVdAa"
      },
      "outputs": [],
      "source": [
        "from transformers import AutoTokenizer, AutoModelForSeq2SeqLM\n",
        "\n",
        "tokenizer = AutoTokenizer.from_pretrained(\"t5_finetuned_summary\")\n",
        "model = AutoModelForSeq2SeqLM.from_pretrained(\"t5_finetuned_summary\")\n"
      ]
    },
    {
      "cell_type": "code",
      "execution_count": null,
      "metadata": {
        "colab": {
          "base_uri": "https://localhost:8080/"
        },
        "id": "gVrD5tVcXnXF",
        "outputId": "5cfccbbd-9f95-479d-a958-83bc75641721"
      },
      "outputs": [
        {
          "name": "stdout",
          "output_type": "stream",
          "text": [
            "  adding: t5_finetuned_summary/ (stored 0%)\n",
            "  adding: t5_finetuned_summary/tokenizer_config.json (deflated 95%)\n",
            "  adding: t5_finetuned_summary/special_tokens_map.json (deflated 85%)\n",
            "  adding: t5_finetuned_summary/model.safetensors (deflated 10%)\n",
            "  adding: t5_finetuned_summary/tokenizer.json (deflated 74%)\n",
            "  adding: t5_finetuned_summary/config.json (deflated 62%)\n",
            "  adding: t5_finetuned_summary/generation_config.json (deflated 27%)\n",
            "  adding: t5_finetuned_summary/spiece.model (deflated 48%)\n"
          ]
        }
      ],
      "source": [
        "!zip -r t5_finetuned_summary.zip t5_finetuned_summary/"
      ]
    },
    {
      "cell_type": "code",
      "execution_count": null,
      "metadata": {
        "colab": {
          "base_uri": "https://localhost:8080/",
          "height": 17
        },
        "id": "4HMQB2t5ZOrf",
        "outputId": "b5d69442-e27d-49a8-a70d-b300bb740514"
      },
      "outputs": [
        {
          "data": {
            "application/javascript": [
              "\n",
              "    async function download(id, filename, size) {\n",
              "      if (!google.colab.kernel.accessAllowed) {\n",
              "        return;\n",
              "      }\n",
              "      const div = document.createElement('div');\n",
              "      const label = document.createElement('label');\n",
              "      label.textContent = `Downloading \"${filename}\": `;\n",
              "      div.appendChild(label);\n",
              "      const progress = document.createElement('progress');\n",
              "      progress.max = size;\n",
              "      div.appendChild(progress);\n",
              "      document.body.appendChild(div);\n",
              "\n",
              "      const buffers = [];\n",
              "      let downloaded = 0;\n",
              "\n",
              "      const channel = await google.colab.kernel.comms.open(id);\n",
              "      // Send a message to notify the kernel that we're ready.\n",
              "      channel.send({})\n",
              "\n",
              "      for await (const message of channel.messages) {\n",
              "        // Send a message to notify the kernel that we're ready.\n",
              "        channel.send({})\n",
              "        if (message.buffers) {\n",
              "          for (const buffer of message.buffers) {\n",
              "            buffers.push(buffer);\n",
              "            downloaded += buffer.byteLength;\n",
              "            progress.value = downloaded;\n",
              "          }\n",
              "        }\n",
              "      }\n",
              "      const blob = new Blob(buffers, {type: 'application/binary'});\n",
              "      const a = document.createElement('a');\n",
              "      a.href = window.URL.createObjectURL(blob);\n",
              "      a.download = filename;\n",
              "      div.appendChild(a);\n",
              "      a.click();\n",
              "      div.remove();\n",
              "    }\n",
              "  "
            ],
            "text/plain": [
              "<IPython.core.display.Javascript object>"
            ]
          },
          "metadata": {},
          "output_type": "display_data"
        },
        {
          "data": {
            "application/javascript": [
              "download(\"download_7813ae83-7abf-4297-9b1a-636121475067\", \"t5_finetuned_summary.zip\", 219298272)"
            ],
            "text/plain": [
              "<IPython.core.display.Javascript object>"
            ]
          },
          "metadata": {},
          "output_type": "display_data"
        }
      ],
      "source": [
        "from google.colab import files\n",
        "files.download(\"t5_finetuned_summary.zip\")"
      ]
    },
    {
      "cell_type": "code",
      "execution_count": null,
      "metadata": {
        "id": "L80xFiXCVi-Z"
      },
      "outputs": [],
      "source": [
        "!pip install -q evaluate"
      ]
    },
    {
      "cell_type": "code",
      "execution_count": null,
      "metadata": {
        "colab": {
          "base_uri": "https://localhost:8080/",
          "height": 49,
          "referenced_widgets": [
            "c040c73f6f184905b1c55b694eed8b53",
            "e61c70c6937240898c3017b554d647e1",
            "f54be7d2190544a0bde8c51a304189b9",
            "8dfe2d37800643f7acc687fb00097313",
            "42033eff8a1b48eba51198d1fdf5bd41",
            "228cf7efc24b48df8ab7d43f10f97da4",
            "75dad4ea6a1847e38775fa37d21ea745",
            "f07739cdff4a4fe0bb7a9b291301e132",
            "30dced7f195d43999d372185f35580eb",
            "5bcd597ad19f4b90beab027ec4b65f85",
            "8234d53830b64c9d8188f14bc8345c56"
          ]
        },
        "id": "n4Bm2e3sWNm4",
        "outputId": "2bf3c4a0-f9e8-4f60-c771-4b0272f0eba9"
      },
      "outputs": [
        {
          "data": {
            "application/vnd.jupyter.widget-view+json": {
              "model_id": "c040c73f6f184905b1c55b694eed8b53",
              "version_major": 2,
              "version_minor": 0
            },
            "text/plain": [
              "Downloading builder script:   0%|          | 0.00/6.27k [00:00<?, ?B/s]"
            ]
          },
          "metadata": {},
          "output_type": "display_data"
        }
      ],
      "source": [
        "import evaluate\n",
        "\n",
        "# Load the ROUGE metric\n",
        "rouge = evaluate.load(\"rouge\")\n",
        "\n",
        "# Function to generate summaries and compute ROUGE\n",
        "def compute_rouge(model, tokenizer, dataset, num_samples=100):\n",
        "    model.eval()\n",
        "    inputs = dataset[\"input_ids\"][:num_samples]\n",
        "    attention_mask = dataset[\"attention_mask\"][:num_samples]\n",
        "    references = dataset[\"labels\"][:num_samples]\n",
        "\n",
        "    # Convert label IDs back to text\n",
        "    references_text = tokenizer.batch_decode(references, skip_special_tokens=True)\n",
        "\n",
        "    # Generate summaries\n",
        "    generated_ids = model.generate(\n",
        "        input_ids=inputs,\n",
        "        attention_mask=attention_mask,\n",
        "        max_length=128,\n",
        "        num_beams=4,\n",
        "    )\n",
        "    predictions_text = tokenizer.batch_decode(generated_ids, skip_special_tokens=True)\n",
        "\n",
        "    # Compute ROUGE scores\n",
        "    results = rouge.compute(predictions=predictions_text, references=references_text)\n",
        "    return results\n"
      ]
    },
    {
      "cell_type": "code",
      "execution_count": null,
      "metadata": {
        "colab": {
          "base_uri": "https://localhost:8080/"
        },
        "id": "pGQOH425WdJL",
        "outputId": "59768ec9-b599-4e1f-fce1-b40d57e54c0f"
      },
      "outputs": [
        {
          "name": "stdout",
          "output_type": "stream",
          "text": [
            "{'rouge1': 0.3164842014981846, 'rouge2': 0.09548135093056624, 'rougeL': 0.19272925115256562, 'rougeLsum': 0.19302656905109356}\n"
          ]
        }
      ],
      "source": [
        "rouge_scores = compute_rouge(model, tokenizer, small_dataset, num_samples=100)\n",
        "print(rouge_scores)\n"
      ]
    },
    {
      "cell_type": "code",
      "execution_count": null,
      "metadata": {
        "colab": {
          "base_uri": "https://localhost:8080/"
        },
        "id": "-LZBj9-Zbfm8",
        "outputId": "1779b2ce-452e-4c23-b3e1-cf174d5ab09f"
      },
      "outputs": [
        {
          "name": "stdout",
          "output_type": "stream",
          "text": [
            "\n",
            "📰 ARTICLE 1:\n",
            "summarize: National Archives NEWLINE_CHAR NEWLINE_CHAR Yes, it’s that time again, folks. It’s the first Friday of the month, when for one ever-so-brief moment the interests of Wall Street, Washington and Main Street are all aligned on one thing: Jobs. NEWLINE_CHAR NEWLINE_CHAR A fresh update on the U.S. employment situation for January hits the wires at 8:30 a.m. New York time offering one of the most important snapshots on how the economy fared during the previous month. Expectations are for 203,000 new jobs to be created, according to economists polled by Dow Jones Newswires, compared to 227,000 jobs added in February. The unemployment rate is expected to hold steady at 8.3%. NEWLINE_CHAR NEWLINE_CHAR Here at MarketBeat HQ, we’ll be offering color commentary before and after the data crosses the wires. Feel free to weigh-in yourself, via the comments section. And while you’re here, why don’t you sign up to follow us on Twitter. NEWLINE_CHAR NEWLINE_CHAR Enjoy the show. ||||| Employer...\n",
            "\n",
            "🔹 Reference Summary:\n",
            "– The unemployment rate dropped to 8.2% last month, but the economy only added 120,000 jobs, when 203,000 new jobs had been predicted, according to today's jobs report. Reaction on the Wall Street Journal's MarketBeat Blog was swift: \"Woah!!! Bad number.\" The unemployment rate, however, is better news; it had been expected to hold steady at 8.3%. But the AP notes that the dip is mostly due to more Americans giving up on seeking employment.\n",
            "\n",
            "🔸 Generated Summary:\n",
            "a new update on the U.S. employment situation for January hits the wires at 8:30 a.m. New York time. Expectations are for 203,000 new jobs to be created, according to economists polled by Dow Jones Newswires. The unemployment rate is expected to hold steady at 8.3%.\n",
            "\n",
            "================================================================================\n",
            "\n",
            "📰 ARTICLE 2:\n",
            "summarize: LOS ANGELES (AP) — In her first interview since the NBA banned her estranged husband, Shelly Sterling says she will fight to keep her share of the Los Angeles Clippers and plans one day to divorce Donald Sterling. NEWLINE_CHAR NEWLINE_CHAR (Click Prev or Next to continue viewing images.) NEWLINE_CHAR NEWLINE_CHAR ADVERTISEMENT (Click Prev or Next to continue viewing images.) NEWLINE_CHAR NEWLINE_CHAR Los Angeles Clippers co-owner Shelly Sterling, below, watches the Clippers play the Oklahoma City Thunder along with her attorney, Pierce O'Donnell, in the first half of Game 3 of the Western Conference... (Associated Press) NEWLINE_CHAR NEWLINE_CHAR Shelly Sterling spoke to Barbara Walters, and ABC News posted a short story with excerpts from the conversation Sunday. NEWLINE_CHAR NEWLINE_CHAR NBA Commissioner Adam Silver has banned Donald Sterling for making racist comments and urged owners to force Sterling to sell the team. Silver added that no decisions had been made about t...\n",
            "\n",
            "🔹 Reference Summary:\n",
            "– Shelly Sterling plans \"eventually\" to divorce her estranged husband Donald, she tells Barbara Walters at ABC News. As for her stake in the Los Angeles Clippers, she plans to keep it, the AP notes. Sterling says she would \"absolutely\" fight any NBA decision to force her to sell the team. The team is her \"legacy\" to her family, she says. \"To be honest with you, I'm wondering if a wife of one of the owners... said those racial slurs, would they ous\n",
            "\n",
            "🔸 Generated Summary:\n",
            "Shelly Sterling says she will fight to keep her share of the Los Angeles Clippers. she says she will divorce her estranged husband, Donald Sterling, and plans to sell the team one day. \"eventually, I am going to\" divorce her husband, and that she hadn't done so due to financial considerations,\" she told ABC News' Barbara Walters today.\n",
            "\n",
            "================================================================================\n",
            "\n",
            "📰 ARTICLE 3:\n",
            "summarize: GAITHERSBURG, Md. (AP) — A small, private jet has crashed into a house in Maryland's Montgomery County on Monday, killing at least three people on board, authorities said. NEWLINE_CHAR NEWLINE_CHAR Preliminary information indicates at least three people were on board and didn't survive the Monday crash into home in Gaithersburg, a Washington, D.C. suburb, said Pete Piringer, a Montgomery County Fire and Rescue spokesman. NEWLINE_CHAR NEWLINE_CHAR He said a fourth person may have been aboard. NEWLINE_CHAR NEWLINE_CHAR Piringer said the jet crashed into one home around 11 a.m., setting it and two others on fire. Crews had the fire under control within an hour and were searching for anyone who may have been in the homes. NEWLINE_CHAR NEWLINE_CHAR Television news footage of the scene showed one home nearly destroyed, with a car in the driveway. Witnesses told television news crews that they saw the airplane appear to struggle to maintain altitude before going into a nosedive and...\n",
            "\n",
            "🔹 Reference Summary:\n",
            "– A twin-engine Embraer jet that the FAA describes as \"on approach to Runway 14\" at the Montgomery County Airpark in Gaithersburg, Maryland, crashed into a home this morning, engulfing that home in flames and setting two others on fire. Three people are dead, but the count could grow. A Montgomery County Fire rep says three fliers were killed in the crash, but notes the corporate plane may have had a fourth person on board, reports the AP. A relative of the owner of the home that was hit tells WUSA 9 that\n",
            "\n",
            "🔸 Generated Summary:\n",
            "a small, private jet has crashed into a home in Gaithersburg, a Washington, D.C. suburb. the jet crashed into one home around 11 a.m., setting it and two others on fire. witnesses said they saw the plane appear to struggle to maintain altitude before going into a nosedive and crashing.\n",
            "\n",
            "================================================================================\n",
            "\n",
            "📰 ARTICLE 4:\n",
            "summarize: Tucker Carlson Exposes His Own Sexism on Twitter (Updated) NEWLINE_CHAR NEWLINE_CHAR Tucker Carlson has done some good work in the past... His site, The Daily Caller, is a frequent stop of mine and many other Conservatives. They were responsible for exposing the Journolist scandal, which highlighted the planning and coordination of many members of the left-wing press. I will always be grateful to Tucker’s team for bringing that story to light. This is also why I am so angered by Tucker’s recent actions. I thought he was better than this. NEWLINE_CHAR NEWLINE_CHAR If you haven’t heard by now, Monday evening, Tucker Carlson posted a disturbing tweet about Governor Palin which said: NEWLINE_CHAR NEWLINE_CHAR Palin’s popularity falling in Iowa, but maintains lead to become supreme commander of Milfistan NEWLINE_CHAR NEWLINE_CHAR Aside from Tucker’s sheep-like response to warped poll numbers, he also failed to take ownership of his sexist comment. He deleted the original (which i...\n",
            "\n",
            "🔹 Reference Summary:\n",
            "– Tucker Carlson is in deep doodoo with conservative women after an ill-advised tweet referencing Sarah Palin that he posted, then removed, Monday night. \"Palin's popularity falling in Iowa, but maintains lead to become supreme commander of Milfistan,\" he tweeted—and we probably don't need to tell you where that is. His first attempt at an apology, which he tweeted the next morning: \"Apparently Charlie Sheen got control of my Twitter account last night while I was at dinner. Apologies for his behavior.”\n",
            "\n",
            "🔸 Generated Summary:\n",
            "Tucker Carlson posted a disturbing tweet about Governor Palin on the Daily Caller. he deleted the original and deleted the original. he apologized to Governor Palin, and urged fellow colleagues to be respectful with their language and written word.\n",
            "\n",
            "================================================================================\n",
            "\n",
            "📰 ARTICLE 5:\n",
            "summarize: A man accused of removing another man's testicle during a meeting in a Port Macquarie motel room has pleaded guilty to a string of charges. NEWLINE_CHAR NEWLINE_CHAR Allan George Matthews, 57, appeared in Port Macquarie Local Court on Wednesday morning for the first time since his arrest in Glen Innes, last month. NEWLINE_CHAR NEWLINE_CHAR SHARE NEWLINE_CHAR NEWLINE_CHAR Share on Facebook SHARE NEWLINE_CHAR NEWLINE_CHAR Share on Twitter TWEET NEWLINE_CHAR NEWLINE_CHAR Link A man has pleaded guilty after 'unauthorised' surgery to remove another's testicle. NEWLINE_CHAR NEWLINE_CHAR During the proceedings, Matthews' solicitor Douglas Hannaway entered pleas of guilty to removing tissue from the body of another without consent or authority. NEWLINE_CHAR NEWLINE_CHAR He has pleaded not guilty to the more serious charge of reckless grievous bodily harm. NEWLINE_CHAR NEWLINE_CHAR Magistrate Dominique Burns ordered police to compile a brief of evidence by next month and serve it on ...\n",
            "\n",
            "🔹 Reference Summary:\n",
            "– What are the three most horrifying words in the English language? Wrong. The correct answer is \"amateur testicle surgery.\" The BBC reports 56-year-old Allan Matthews pleaded guilty Wednesday to removing another man's left testicle at an Australian motel despite not being qualified to practice medicine. The unsanctioned surgery took place in May after a 52-year-old man posted an ad online seeking help for a medical issue, according to the Sydney Morning Herald. The man was apparently still suffering after being kicked in the \n",
            "\n",
            "🔸 Generated Summary:\n",
            "Allan George Matthews, 57, appeared in Port Macquarie Local Court on Wednesday morning for the first time since his arrest in Glen Innes, last month. he has pleaded not guilty to the more serious charge of reckless grievous bodily harm. he has pleaded not guilty to the more serious charge of reckless grievous bodily harm.\n",
            "\n",
            "================================================================================\n"
          ]
        }
      ],
      "source": [
        "model.eval()\n",
        "\n",
        "# Grab a small batch from the dataset\n",
        "for i in range(5):  # You can increase this to see more examples\n",
        "    input_ids = small_dataset[i][\"input_ids\"].unsqueeze(0).to(model.device)\n",
        "    attention_mask = small_dataset[i][\"attention_mask\"].unsqueeze(0).to(model.device)\n",
        "    label_ids = small_dataset[i][\"labels\"]\n",
        "\n",
        "    # Generate summary\n",
        "    with torch.no_grad():\n",
        "        output_ids = model.generate(input_ids=input_ids, attention_mask=attention_mask, max_length=128)\n",
        "\n",
        "    # Decode\n",
        "    input_text = tokenizer.decode(input_ids[0], skip_special_tokens=True)\n",
        "    generated_summary = tokenizer.decode(output_ids[0], skip_special_tokens=True)\n",
        "    reference_summary = tokenizer.decode(label_ids, skip_special_tokens=True)\n",
        "\n",
        "    # Print\n",
        "    print(f\"\\n📰 ARTICLE {i+1}:\\n{input_text[:1000]}...\\n\")\n",
        "    print(f\"🔹 Reference Summary:\\n{reference_summary}\\n\")\n",
        "    print(f\"🔸 Generated Summary:\\n{generated_summary}\\n\")\n",
        "    print(\"=\" * 80)\n"
      ]
    },
    {
      "cell_type": "code",
      "execution_count": null,
      "metadata": {
        "id": "32FIW472dixV"
      },
      "outputs": [],
      "source": [
        "!pip install -q huggingface_hub"
      ]
    },
    {
      "cell_type": "code",
      "execution_count": null,
      "metadata": {
        "colab": {
          "base_uri": "https://localhost:8080/",
          "height": 17,
          "referenced_widgets": [
            "e0bbe929d2774001916c2b2cb206636a",
            "c79d59dffeb24518bec1beac4cca605b",
            "8640c82eae57428cb7921713c562ea0f",
            "319bc991316744ceb9334522e3ab2f10",
            "102fe2745bb243ea9634299efe633083",
            "c5ed2239f2464242b86030e7b7b560e0",
            "e57129e77abd4e999f29e6e1574b23a1",
            "95f5f2a54df547dcad1cf30e57a41f09",
            "b235530beea5455bb5473b7981570745",
            "963d54c7071d442285327193ef74abbd",
            "2c7c9a2024f44972a0ef34b49923723f",
            "51bc26df682745fcb3c8ec3ca27ca27c",
            "bc48679c36e04cb98cacfe5a32a3fa12",
            "0f75e3a82a3e49db877872f09ceb9fd9",
            "1f904f9aa93744aea2f43990ac49bd75",
            "e2bf248b21eb466cace2ebbb2e5c2923",
            "2ecd4c00ccbd4c3c819433217045b1ce",
            "31ff81af0d3e4067b5001ddf0af8c32e",
            "7d81635f140c4dccbca23a47aa4b8c52",
            "9a204b374f0d488f9bb33ce97b776b51"
          ]
        },
        "id": "c-evgi36dmUI",
        "outputId": "fe41de53-7a23-4a0e-e5ff-52ad7de20195"
      },
      "outputs": [
        {
          "data": {
            "application/vnd.jupyter.widget-view+json": {
              "model_id": "e0bbe929d2774001916c2b2cb206636a",
              "version_major": 2,
              "version_minor": 0
            },
            "text/plain": [
              "VBox(children=(HTML(value='<center> <img\\nsrc=https://huggingface.co/front/assets/huggingface_logo-noborder.sv…"
            ]
          },
          "metadata": {},
          "output_type": "display_data"
        }
      ],
      "source": [
        "from huggingface_hub import notebook_login\n",
        "notebook_login()"
      ]
    },
    {
      "cell_type": "code",
      "execution_count": null,
      "metadata": {
        "colab": {
          "base_uri": "https://localhost:8080/",
          "height": 200,
          "referenced_widgets": [
            "a1f5d763789449ee8ce9d561109a2293",
            "2f100edd4068410c82c24382be6ff60f",
            "b53ab061d7934ee3b28538bddbf76a33",
            "3515456755444c19b73d0bac6bd3a5ba",
            "bbdeefb4e7d64bef8646e06af9586f40",
            "32ced674d2984d96ba6e90c03e85a0a6",
            "3dca30f3e7d2402ab0cb394f1d43e2fd",
            "c348718009f348eeb6ba1ead625c0b98",
            "5b50561651f64f87b82763e04982a455",
            "f477c87879084923bb71e621966488d8",
            "08a6517785274cb998bb82e6baf690b3",
            "3caba37351bd433c94b9c6f6b14224da",
            "82766ce8cf1146d59ad329243bfecce5",
            "6e5e86b2603240dd925d3a103d2fe09c",
            "f30750db3ecb4fad8cd10bb158c0ae69",
            "50e6cb5eed4c4313bdda1a3a4aea8285",
            "f43bf68fb4664616a2d693bf253e969d",
            "defe5891fd65411396b26c04e809c047",
            "838229bb4bde48b4bd7de6133efed293",
            "0a91b96bb5e14dbfa94b5f6eac456364",
            "a68e1fcd020d4e529fa3afe59c79741a",
            "e3084efec63149668d50825957df03db",
            "ceb9bc860c2949cc9fca8b321ea866e5",
            "c61a4d43286745aea504b06dcdf53e83",
            "e13d048e1a6d4003b57e203956de0f43",
            "f116fa40bb3549339a81eea59d972d65",
            "8d35fd4999fd48c6b341941b2b1a8b40",
            "3c543a2d0a5f4ee4b2c1f52dea5eee26",
            "c460bb09e5d44d12b309ed0c28e98b81",
            "c2e5b25e4a2642bdb32e571b459e8f67",
            "81d18611938d4210bdfd230deaa031a6",
            "18f3d5f20f324c3fbea7a97bf685f08b",
            "a5b5ba3b13cf4093970579ac7703217c"
          ]
        },
        "id": "Zf106IwFew3P",
        "outputId": "f4b837b6-134a-4d26-8972-b12424d94cba"
      },
      "outputs": [
        {
          "data": {
            "application/vnd.jupyter.widget-view+json": {
              "model_id": "a1f5d763789449ee8ce9d561109a2293",
              "version_major": 2,
              "version_minor": 0
            },
            "text/plain": [
              "model.safetensors:   0%|          | 0.00/242M [00:00<?, ?B/s]"
            ]
          },
          "metadata": {},
          "output_type": "display_data"
        },
        {
          "data": {
            "application/vnd.jupyter.widget-view+json": {
              "model_id": "3caba37351bd433c94b9c6f6b14224da",
              "version_major": 2,
              "version_minor": 0
            },
            "text/plain": [
              "README.md:   0%|          | 0.00/5.17k [00:00<?, ?B/s]"
            ]
          },
          "metadata": {},
          "output_type": "display_data"
        },
        {
          "data": {
            "application/vnd.jupyter.widget-view+json": {
              "model_id": "ceb9bc860c2949cc9fca8b321ea866e5",
              "version_major": 2,
              "version_minor": 0
            },
            "text/plain": [
              "spiece.model:   0%|          | 0.00/792k [00:00<?, ?B/s]"
            ]
          },
          "metadata": {},
          "output_type": "display_data"
        },
        {
          "data": {
            "application/vnd.google.colaboratory.intrinsic+json": {
              "type": "string"
            },
            "text/plain": [
              "CommitInfo(commit_url='https://huggingface.co/CuHz/t5-finetuned-summary/commit/3065734d6f373f24cdca34a5e9c94ef4d3f1c5dc', commit_message='Upload tokenizer', commit_description='', oid='3065734d6f373f24cdca34a5e9c94ef4d3f1c5dc', pr_url=None, repo_url=RepoUrl('https://huggingface.co/CuHz/t5-finetuned-summary', endpoint='https://huggingface.co', repo_type='model', repo_id='CuHz/t5-finetuned-summary'), pr_revision=None, pr_num=None)"
            ]
          },
          "execution_count": 22,
          "metadata": {},
          "output_type": "execute_result"
        }
      ],
      "source": [
        "from transformers import AutoTokenizer\n",
        "\n",
        "# Save tokenizer again just in case\n",
        "tokenizer.save_pretrained(\"t5_finetuned_summary\")\n",
        "\n",
        "# Push to Hugging Face Hub\n",
        "model.push_to_hub(\"t5-finetuned-summary\")\n",
        "tokenizer.push_to_hub(\"t5-finetuned-summary\")"
      ]
    }
  ],
  "metadata": {
    "colab": {
      "provenance": []
    },
    "kernelspec": {
      "display_name": "Python 3",
      "name": "python3"
    },
    "language_info": {
      "name": "python"
    }
  },
  "nbformat": 4,
  "nbformat_minor": 0
}